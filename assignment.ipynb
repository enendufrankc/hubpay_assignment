{
 "cells": [
  {
   "cell_type": "markdown",
   "id": "e4b420be",
   "metadata": {},
   "source": [
    " <img src = \"img.png\">"
   ]
  },
  {
   "cell_type": "markdown",
   "id": "d79e4e0a",
   "metadata": {},
   "source": [
    "# Data Science Exercise"
   ]
  },
  {
   "cell_type": "markdown",
   "id": "e55effbe",
   "metadata": {},
   "source": [
    "This exercise is about retention versus churn (departure) of customers from HubPay.\n",
    "All retail service providers experience churn, and there is competitive advantage to be gained from predicting the customers that will depart and taking steps to retain them"
   ]
  },
  {
   "cell_type": "markdown",
   "id": "a33a1a9f",
   "metadata": {},
   "source": [
    "The Objectives of the exercise are to:\n",
    "\n",
    "    1.Perform basic descriptive analytics to understand whether any of the features in the data are associated with churn\n",
    "    \n",
    "    2.Prepare and cleanse the data to make it suitable for modelling\n",
    "    \n",
    "    3.Build classification models to predict churn, using at least two alternative machine learning techniques, and perform appropriate validation upon these models\n",
    "    \n",
    "    4.Evaluate the performance of the models and any shortcomings that are evident, and opine as to whether the models are adequate for decision-making\n",
    "    \n",
    "    5.Build logistic regression model(s) explaining churn in terms of the explanatory variables and provide interpretations of coefficients and coefficient standard errors in these model(s)\n"
   ]
  },
  {
   "cell_type": "markdown",
   "id": "d504b037",
   "metadata": {},
   "source": [
    "# Importing Relevant Libraries"
   ]
  },
  {
   "cell_type": "markdown",
   "id": "92398326",
   "metadata": {},
   "source": [
    "In this section, we import all relevant libraries needed to meet our objective"
   ]
  },
  {
   "cell_type": "code",
   "execution_count": 88,
   "id": "9816cf5e",
   "metadata": {},
   "outputs": [],
   "source": [
    "import pandas as pd\n",
    "from matplotlib import pyplot as plt\n",
    "import numpy as np\n",
    "import seaborn as sns\n",
    "import statsmodels\n",
    "from sklearn.model_selection import train_test_split\n",
    "from sklearn.ensemble import RandomForestClassifier\n",
    "from sklearn.ensemble import ExtraTreesClassifier\n",
    "from sklearn.linear_model import LogisticRegression\n",
    "from sklearn.metrics import accuracy_score, confusion_matrix, classification_report\n",
    "%matplotlib inline\n",
    "import pickle"
   ]
  },
  {
   "cell_type": "code",
   "execution_count": 89,
   "id": "92114e35",
   "metadata": {},
   "outputs": [],
   "source": [
    "# I don't have xgboost installed so I installed here\n",
    "# pip install xgboost\n",
    "from xgboost import XGBClassifier"
   ]
  },
  {
   "cell_type": "markdown",
   "id": "d42ac4ef",
   "metadata": {},
   "source": [
    "# Exploratory Data Analysis"
   ]
  },
  {
   "cell_type": "markdown",
   "id": "c2c1af1e",
   "metadata": {},
   "source": [
    "Reading Dataset"
   ]
  },
  {
   "cell_type": "code",
   "execution_count": 7,
   "id": "4e9858d9",
   "metadata": {},
   "outputs": [
    {
     "data": {
      "text/html": [
       "<div>\n",
       "<style scoped>\n",
       "    .dataframe tbody tr th:only-of-type {\n",
       "        vertical-align: middle;\n",
       "    }\n",
       "\n",
       "    .dataframe tbody tr th {\n",
       "        vertical-align: top;\n",
       "    }\n",
       "\n",
       "    .dataframe thead th {\n",
       "        text-align: right;\n",
       "    }\n",
       "</style>\n",
       "<table border=\"1\" class=\"dataframe\">\n",
       "  <thead>\n",
       "    <tr style=\"text-align: right;\">\n",
       "      <th></th>\n",
       "      <th>cust_id</th>\n",
       "      <th>income</th>\n",
       "      <th>debt_with_other_lenders</th>\n",
       "      <th>credit_score</th>\n",
       "      <th>has_previous_defaults_other_lenders</th>\n",
       "      <th>num_remittances_prev_12_mth</th>\n",
       "      <th>remittance_amt_prev_12_mth</th>\n",
       "      <th>main_remittance_corridor</th>\n",
       "      <th>opened_campaign_1</th>\n",
       "      <th>opened_campaign_2</th>\n",
       "      <th>opened_campaign_3</th>\n",
       "      <th>opened_campaign_4</th>\n",
       "      <th>tenure_years</th>\n",
       "      <th>churned</th>\n",
       "    </tr>\n",
       "  </thead>\n",
       "  <tbody>\n",
       "    <tr>\n",
       "      <th>1791</th>\n",
       "      <td>1792</td>\n",
       "      <td>41351.026970</td>\n",
       "      <td>40080.52434</td>\n",
       "      <td>13.0</td>\n",
       "      <td>0</td>\n",
       "      <td>29</td>\n",
       "      <td>19814.912160</td>\n",
       "      <td>AE_IN</td>\n",
       "      <td>0</td>\n",
       "      <td>0</td>\n",
       "      <td>0</td>\n",
       "      <td>0</td>\n",
       "      <td>0.961542</td>\n",
       "      <td>0</td>\n",
       "    </tr>\n",
       "    <tr>\n",
       "      <th>3764</th>\n",
       "      <td>3765</td>\n",
       "      <td>3878.004510</td>\n",
       "      <td>NaN</td>\n",
       "      <td>2.0</td>\n",
       "      <td>0</td>\n",
       "      <td>20</td>\n",
       "      <td>1200.493395</td>\n",
       "      <td>AE_PK</td>\n",
       "      <td>0</td>\n",
       "      <td>0</td>\n",
       "      <td>0</td>\n",
       "      <td>0</td>\n",
       "      <td>0.370917</td>\n",
       "      <td>1</td>\n",
       "    </tr>\n",
       "    <tr>\n",
       "      <th>203</th>\n",
       "      <td>204</td>\n",
       "      <td>46512.876190</td>\n",
       "      <td>33374.48241</td>\n",
       "      <td>13.0</td>\n",
       "      <td>0</td>\n",
       "      <td>22</td>\n",
       "      <td>25181.057820</td>\n",
       "      <td>AE_IN</td>\n",
       "      <td>0</td>\n",
       "      <td>0</td>\n",
       "      <td>0</td>\n",
       "      <td>0</td>\n",
       "      <td>1.432957</td>\n",
       "      <td>0</td>\n",
       "    </tr>\n",
       "    <tr>\n",
       "      <th>4682</th>\n",
       "      <td>4683</td>\n",
       "      <td>9228.032456</td>\n",
       "      <td>18707.31287</td>\n",
       "      <td>4.0</td>\n",
       "      <td>0</td>\n",
       "      <td>31</td>\n",
       "      <td>5315.408985</td>\n",
       "      <td>AE_IN</td>\n",
       "      <td>0</td>\n",
       "      <td>0</td>\n",
       "      <td>0</td>\n",
       "      <td>0</td>\n",
       "      <td>1.160456</td>\n",
       "      <td>0</td>\n",
       "    </tr>\n",
       "    <tr>\n",
       "      <th>3718</th>\n",
       "      <td>3719</td>\n",
       "      <td>30314.792400</td>\n",
       "      <td>81934.11124</td>\n",
       "      <td>15.0</td>\n",
       "      <td>0</td>\n",
       "      <td>23</td>\n",
       "      <td>20198.371470</td>\n",
       "      <td>AE_PK</td>\n",
       "      <td>0</td>\n",
       "      <td>0</td>\n",
       "      <td>0</td>\n",
       "      <td>0</td>\n",
       "      <td>0.852729</td>\n",
       "      <td>0</td>\n",
       "    </tr>\n",
       "  </tbody>\n",
       "</table>\n",
       "</div>"
      ],
      "text/plain": [
       "      cust_id        income  debt_with_other_lenders  credit_score  \\\n",
       "1791     1792  41351.026970              40080.52434          13.0   \n",
       "3764     3765   3878.004510                      NaN           2.0   \n",
       "203       204  46512.876190              33374.48241          13.0   \n",
       "4682     4683   9228.032456              18707.31287           4.0   \n",
       "3718     3719  30314.792400              81934.11124          15.0   \n",
       "\n",
       "      has_previous_defaults_other_lenders  num_remittances_prev_12_mth  \\\n",
       "1791                                    0                           29   \n",
       "3764                                    0                           20   \n",
       "203                                     0                           22   \n",
       "4682                                    0                           31   \n",
       "3718                                    0                           23   \n",
       "\n",
       "      remittance_amt_prev_12_mth main_remittance_corridor  opened_campaign_1  \\\n",
       "1791                19814.912160                    AE_IN                  0   \n",
       "3764                 1200.493395                    AE_PK                  0   \n",
       "203                 25181.057820                    AE_IN                  0   \n",
       "4682                 5315.408985                    AE_IN                  0   \n",
       "3718                20198.371470                    AE_PK                  0   \n",
       "\n",
       "      opened_campaign_2  opened_campaign_3  opened_campaign_4  tenure_years  \\\n",
       "1791                  0                  0                  0      0.961542   \n",
       "3764                  0                  0                  0      0.370917   \n",
       "203                   0                  0                  0      1.432957   \n",
       "4682                  0                  0                  0      1.160456   \n",
       "3718                  0                  0                  0      0.852729   \n",
       "\n",
       "      churned  \n",
       "1791        0  \n",
       "3764        1  \n",
       "203         0  \n",
       "4682        0  \n",
       "3718        0  "
      ]
     },
     "execution_count": 7,
     "metadata": {},
     "output_type": "execute_result"
    }
   ],
   "source": [
    "df = pd.read_csv(\"Customer_Churn_Data_v2.csv\")\n",
    "df.sample(5)"
   ]
  },
  {
   "cell_type": "code",
   "execution_count": 8,
   "id": "f5b4d518",
   "metadata": {},
   "outputs": [
    {
     "data": {
      "text/plain": [
       "(7432, 14)"
      ]
     },
     "execution_count": 8,
     "metadata": {},
     "output_type": "execute_result"
    }
   ],
   "source": [
    "df.shape"
   ]
  },
  {
   "cell_type": "markdown",
   "id": "527311d7",
   "metadata": {},
   "source": [
    "Checking Data Type"
   ]
  },
  {
   "cell_type": "code",
   "execution_count": 9,
   "id": "d62c3d52",
   "metadata": {},
   "outputs": [
    {
     "data": {
      "text/plain": [
       "cust_id                                  int64\n",
       "income                                 float64\n",
       "debt_with_other_lenders                float64\n",
       "credit_score                           float64\n",
       "has_previous_defaults_other_lenders      int64\n",
       "num_remittances_prev_12_mth              int64\n",
       "remittance_amt_prev_12_mth             float64\n",
       "main_remittance_corridor                object\n",
       "opened_campaign_1                        int64\n",
       "opened_campaign_2                        int64\n",
       "opened_campaign_3                        int64\n",
       "opened_campaign_4                        int64\n",
       "tenure_years                           float64\n",
       "churned                                  int64\n",
       "dtype: object"
      ]
     },
     "execution_count": 9,
     "metadata": {},
     "output_type": "execute_result"
    }
   ],
   "source": [
    "df.dtypes"
   ]
  },
  {
   "cell_type": "markdown",
   "id": "e15893be",
   "metadata": {},
   "source": [
    "Income, debt_with_other_lenders, credit_score are meant to be float or int data type"
   ]
  },
  {
   "cell_type": "code",
   "execution_count": 10,
   "id": "58c68215",
   "metadata": {},
   "outputs": [
    {
     "data": {
      "text/html": [
       "<div>\n",
       "<style scoped>\n",
       "    .dataframe tbody tr th:only-of-type {\n",
       "        vertical-align: middle;\n",
       "    }\n",
       "\n",
       "    .dataframe tbody tr th {\n",
       "        vertical-align: top;\n",
       "    }\n",
       "\n",
       "    .dataframe thead th {\n",
       "        text-align: right;\n",
       "    }\n",
       "</style>\n",
       "<table border=\"1\" class=\"dataframe\">\n",
       "  <thead>\n",
       "    <tr style=\"text-align: right;\">\n",
       "      <th></th>\n",
       "      <th>cust_id</th>\n",
       "      <th>income</th>\n",
       "      <th>debt_with_other_lenders</th>\n",
       "      <th>credit_score</th>\n",
       "      <th>has_previous_defaults_other_lenders</th>\n",
       "      <th>num_remittances_prev_12_mth</th>\n",
       "      <th>remittance_amt_prev_12_mth</th>\n",
       "      <th>main_remittance_corridor</th>\n",
       "      <th>opened_campaign_1</th>\n",
       "      <th>opened_campaign_2</th>\n",
       "      <th>opened_campaign_3</th>\n",
       "      <th>opened_campaign_4</th>\n",
       "      <th>tenure_years</th>\n",
       "      <th>churned</th>\n",
       "    </tr>\n",
       "  </thead>\n",
       "  <tbody>\n",
       "    <tr>\n",
       "      <th>59</th>\n",
       "      <td>60</td>\n",
       "      <td>NaN</td>\n",
       "      <td>43289.045190</td>\n",
       "      <td>9.0</td>\n",
       "      <td>0</td>\n",
       "      <td>18</td>\n",
       "      <td>12033.913160</td>\n",
       "      <td>AE_PK</td>\n",
       "      <td>0</td>\n",
       "      <td>0</td>\n",
       "      <td>0</td>\n",
       "      <td>0</td>\n",
       "      <td>2.395957</td>\n",
       "      <td>0</td>\n",
       "    </tr>\n",
       "    <tr>\n",
       "      <th>94</th>\n",
       "      <td>95</td>\n",
       "      <td>NaN</td>\n",
       "      <td>24642.825310</td>\n",
       "      <td>7.0</td>\n",
       "      <td>1</td>\n",
       "      <td>22</td>\n",
       "      <td>8236.839606</td>\n",
       "      <td>AE_PK</td>\n",
       "      <td>1</td>\n",
       "      <td>0</td>\n",
       "      <td>0</td>\n",
       "      <td>1</td>\n",
       "      <td>1.679304</td>\n",
       "      <td>0</td>\n",
       "    </tr>\n",
       "    <tr>\n",
       "      <th>212</th>\n",
       "      <td>213</td>\n",
       "      <td>NaN</td>\n",
       "      <td>1632.956718</td>\n",
       "      <td>2.0</td>\n",
       "      <td>0</td>\n",
       "      <td>18</td>\n",
       "      <td>1499.629811</td>\n",
       "      <td>AE_PK</td>\n",
       "      <td>0</td>\n",
       "      <td>0</td>\n",
       "      <td>0</td>\n",
       "      <td>0</td>\n",
       "      <td>1.382719</td>\n",
       "      <td>0</td>\n",
       "    </tr>\n",
       "    <tr>\n",
       "      <th>232</th>\n",
       "      <td>233</td>\n",
       "      <td>NaN</td>\n",
       "      <td>16213.468180</td>\n",
       "      <td>4.0</td>\n",
       "      <td>0</td>\n",
       "      <td>25</td>\n",
       "      <td>7495.786348</td>\n",
       "      <td>AE_PK</td>\n",
       "      <td>0</td>\n",
       "      <td>0</td>\n",
       "      <td>0</td>\n",
       "      <td>0</td>\n",
       "      <td>0.523328</td>\n",
       "      <td>0</td>\n",
       "    </tr>\n",
       "    <tr>\n",
       "      <th>235</th>\n",
       "      <td>236</td>\n",
       "      <td>NaN</td>\n",
       "      <td>55011.606990</td>\n",
       "      <td>8.0</td>\n",
       "      <td>1</td>\n",
       "      <td>28</td>\n",
       "      <td>1150.097585</td>\n",
       "      <td>AE_IN</td>\n",
       "      <td>0</td>\n",
       "      <td>0</td>\n",
       "      <td>0</td>\n",
       "      <td>1</td>\n",
       "      <td>0.770036</td>\n",
       "      <td>1</td>\n",
       "    </tr>\n",
       "  </tbody>\n",
       "</table>\n",
       "</div>"
      ],
      "text/plain": [
       "     cust_id  income  debt_with_other_lenders  credit_score  \\\n",
       "59        60     NaN             43289.045190           9.0   \n",
       "94        95     NaN             24642.825310           7.0   \n",
       "212      213     NaN              1632.956718           2.0   \n",
       "232      233     NaN             16213.468180           4.0   \n",
       "235      236     NaN             55011.606990           8.0   \n",
       "\n",
       "     has_previous_defaults_other_lenders  num_remittances_prev_12_mth  \\\n",
       "59                                     0                           18   \n",
       "94                                     1                           22   \n",
       "212                                    0                           18   \n",
       "232                                    0                           25   \n",
       "235                                    1                           28   \n",
       "\n",
       "     remittance_amt_prev_12_mth main_remittance_corridor  opened_campaign_1  \\\n",
       "59                 12033.913160                    AE_PK                  0   \n",
       "94                  8236.839606                    AE_PK                  1   \n",
       "212                 1499.629811                    AE_PK                  0   \n",
       "232                 7495.786348                    AE_PK                  0   \n",
       "235                 1150.097585                    AE_IN                  0   \n",
       "\n",
       "     opened_campaign_2  opened_campaign_3  opened_campaign_4  tenure_years  \\\n",
       "59                   0                  0                  0      2.395957   \n",
       "94                   0                  0                  1      1.679304   \n",
       "212                  0                  0                  0      1.382719   \n",
       "232                  0                  0                  0      0.523328   \n",
       "235                  0                  0                  1      0.770036   \n",
       "\n",
       "     churned  \n",
       "59         0  \n",
       "94         0  \n",
       "212        0  \n",
       "232        0  \n",
       "235        1  "
      ]
     },
     "execution_count": 10,
     "metadata": {},
     "output_type": "execute_result"
    }
   ],
   "source": [
    "#Lets check and see what the issue is\n",
    "df1 = df[pd.to_numeric(df.income,errors='coerce').isnull()]\n",
    "df1.head()"
   ]
  },
  {
   "cell_type": "code",
   "execution_count": 11,
   "id": "67bb6960",
   "metadata": {},
   "outputs": [
    {
     "data": {
      "text/html": [
       "<div>\n",
       "<style scoped>\n",
       "    .dataframe tbody tr th:only-of-type {\n",
       "        vertical-align: middle;\n",
       "    }\n",
       "\n",
       "    .dataframe tbody tr th {\n",
       "        vertical-align: top;\n",
       "    }\n",
       "\n",
       "    .dataframe thead th {\n",
       "        text-align: right;\n",
       "    }\n",
       "</style>\n",
       "<table border=\"1\" class=\"dataframe\">\n",
       "  <thead>\n",
       "    <tr style=\"text-align: right;\">\n",
       "      <th></th>\n",
       "      <th>cust_id</th>\n",
       "      <th>income</th>\n",
       "      <th>debt_with_other_lenders</th>\n",
       "      <th>credit_score</th>\n",
       "      <th>has_previous_defaults_other_lenders</th>\n",
       "      <th>num_remittances_prev_12_mth</th>\n",
       "      <th>remittance_amt_prev_12_mth</th>\n",
       "      <th>main_remittance_corridor</th>\n",
       "      <th>opened_campaign_1</th>\n",
       "      <th>opened_campaign_2</th>\n",
       "      <th>opened_campaign_3</th>\n",
       "      <th>opened_campaign_4</th>\n",
       "      <th>tenure_years</th>\n",
       "      <th>churned</th>\n",
       "    </tr>\n",
       "  </thead>\n",
       "  <tbody>\n",
       "    <tr>\n",
       "      <th>15</th>\n",
       "      <td>16</td>\n",
       "      <td>12664.869050</td>\n",
       "      <td>NaN</td>\n",
       "      <td>5.0</td>\n",
       "      <td>0</td>\n",
       "      <td>23</td>\n",
       "      <td>3533.582080</td>\n",
       "      <td>AE_IN</td>\n",
       "      <td>0</td>\n",
       "      <td>0</td>\n",
       "      <td>0</td>\n",
       "      <td>0</td>\n",
       "      <td>0.368532</td>\n",
       "      <td>1</td>\n",
       "    </tr>\n",
       "    <tr>\n",
       "      <th>22</th>\n",
       "      <td>23</td>\n",
       "      <td>13734.955730</td>\n",
       "      <td>NaN</td>\n",
       "      <td>7.0</td>\n",
       "      <td>1</td>\n",
       "      <td>28</td>\n",
       "      <td>4324.823984</td>\n",
       "      <td>AE_IN</td>\n",
       "      <td>0</td>\n",
       "      <td>0</td>\n",
       "      <td>0</td>\n",
       "      <td>0</td>\n",
       "      <td>0.479024</td>\n",
       "      <td>1</td>\n",
       "    </tr>\n",
       "    <tr>\n",
       "      <th>40</th>\n",
       "      <td>41</td>\n",
       "      <td>6677.353290</td>\n",
       "      <td>NaN</td>\n",
       "      <td>4.0</td>\n",
       "      <td>1</td>\n",
       "      <td>14</td>\n",
       "      <td>4546.988818</td>\n",
       "      <td>AE_PK</td>\n",
       "      <td>0</td>\n",
       "      <td>0</td>\n",
       "      <td>0</td>\n",
       "      <td>0</td>\n",
       "      <td>1.199639</td>\n",
       "      <td>0</td>\n",
       "    </tr>\n",
       "    <tr>\n",
       "      <th>109</th>\n",
       "      <td>110</td>\n",
       "      <td>6174.622364</td>\n",
       "      <td>NaN</td>\n",
       "      <td>3.0</td>\n",
       "      <td>0</td>\n",
       "      <td>25</td>\n",
       "      <td>1169.718805</td>\n",
       "      <td>AE_IN</td>\n",
       "      <td>1</td>\n",
       "      <td>0</td>\n",
       "      <td>0</td>\n",
       "      <td>0</td>\n",
       "      <td>1.577643</td>\n",
       "      <td>0</td>\n",
       "    </tr>\n",
       "    <tr>\n",
       "      <th>130</th>\n",
       "      <td>131</td>\n",
       "      <td>8900.689168</td>\n",
       "      <td>NaN</td>\n",
       "      <td>4.0</td>\n",
       "      <td>0</td>\n",
       "      <td>24</td>\n",
       "      <td>1902.738131</td>\n",
       "      <td>AE_IN</td>\n",
       "      <td>1</td>\n",
       "      <td>0</td>\n",
       "      <td>0</td>\n",
       "      <td>0</td>\n",
       "      <td>1.588867</td>\n",
       "      <td>0</td>\n",
       "    </tr>\n",
       "  </tbody>\n",
       "</table>\n",
       "</div>"
      ],
      "text/plain": [
       "     cust_id        income  debt_with_other_lenders  credit_score  \\\n",
       "15        16  12664.869050                      NaN           5.0   \n",
       "22        23  13734.955730                      NaN           7.0   \n",
       "40        41   6677.353290                      NaN           4.0   \n",
       "109      110   6174.622364                      NaN           3.0   \n",
       "130      131   8900.689168                      NaN           4.0   \n",
       "\n",
       "     has_previous_defaults_other_lenders  num_remittances_prev_12_mth  \\\n",
       "15                                     0                           23   \n",
       "22                                     1                           28   \n",
       "40                                     1                           14   \n",
       "109                                    0                           25   \n",
       "130                                    0                           24   \n",
       "\n",
       "     remittance_amt_prev_12_mth main_remittance_corridor  opened_campaign_1  \\\n",
       "15                  3533.582080                    AE_IN                  0   \n",
       "22                  4324.823984                    AE_IN                  0   \n",
       "40                  4546.988818                    AE_PK                  0   \n",
       "109                 1169.718805                    AE_IN                  1   \n",
       "130                 1902.738131                    AE_IN                  1   \n",
       "\n",
       "     opened_campaign_2  opened_campaign_3  opened_campaign_4  tenure_years  \\\n",
       "15                   0                  0                  0      0.368532   \n",
       "22                   0                  0                  0      0.479024   \n",
       "40                   0                  0                  0      1.199639   \n",
       "109                  0                  0                  0      1.577643   \n",
       "130                  0                  0                  0      1.588867   \n",
       "\n",
       "     churned  \n",
       "15         1  \n",
       "22         1  \n",
       "40         0  \n",
       "109        0  \n",
       "130        0  "
      ]
     },
     "execution_count": 11,
     "metadata": {},
     "output_type": "execute_result"
    }
   ],
   "source": [
    "df2 = df[pd.to_numeric(df.debt_with_other_lenders,errors='coerce').isnull()]\n",
    "df2.head()"
   ]
  },
  {
   "cell_type": "code",
   "execution_count": 12,
   "id": "d466de27",
   "metadata": {},
   "outputs": [
    {
     "data": {
      "text/html": [
       "<div>\n",
       "<style scoped>\n",
       "    .dataframe tbody tr th:only-of-type {\n",
       "        vertical-align: middle;\n",
       "    }\n",
       "\n",
       "    .dataframe tbody tr th {\n",
       "        vertical-align: top;\n",
       "    }\n",
       "\n",
       "    .dataframe thead th {\n",
       "        text-align: right;\n",
       "    }\n",
       "</style>\n",
       "<table border=\"1\" class=\"dataframe\">\n",
       "  <thead>\n",
       "    <tr style=\"text-align: right;\">\n",
       "      <th></th>\n",
       "      <th>cust_id</th>\n",
       "      <th>income</th>\n",
       "      <th>debt_with_other_lenders</th>\n",
       "      <th>credit_score</th>\n",
       "      <th>has_previous_defaults_other_lenders</th>\n",
       "      <th>num_remittances_prev_12_mth</th>\n",
       "      <th>remittance_amt_prev_12_mth</th>\n",
       "      <th>main_remittance_corridor</th>\n",
       "      <th>opened_campaign_1</th>\n",
       "      <th>opened_campaign_2</th>\n",
       "      <th>opened_campaign_3</th>\n",
       "      <th>opened_campaign_4</th>\n",
       "      <th>tenure_years</th>\n",
       "      <th>churned</th>\n",
       "    </tr>\n",
       "  </thead>\n",
       "  <tbody>\n",
       "    <tr>\n",
       "      <th>26</th>\n",
       "      <td>27</td>\n",
       "      <td>17050.88032</td>\n",
       "      <td>13796.82406</td>\n",
       "      <td>NaN</td>\n",
       "      <td>0</td>\n",
       "      <td>24</td>\n",
       "      <td>4143.831381</td>\n",
       "      <td>AE_PK</td>\n",
       "      <td>0</td>\n",
       "      <td>0</td>\n",
       "      <td>0</td>\n",
       "      <td>0</td>\n",
       "      <td>1.088632</td>\n",
       "      <td>0</td>\n",
       "    </tr>\n",
       "    <tr>\n",
       "      <th>44</th>\n",
       "      <td>45</td>\n",
       "      <td>29062.36911</td>\n",
       "      <td>44209.97239</td>\n",
       "      <td>NaN</td>\n",
       "      <td>0</td>\n",
       "      <td>14</td>\n",
       "      <td>18310.790570</td>\n",
       "      <td>AE_IN</td>\n",
       "      <td>0</td>\n",
       "      <td>0</td>\n",
       "      <td>0</td>\n",
       "      <td>0</td>\n",
       "      <td>2.621682</td>\n",
       "      <td>0</td>\n",
       "    </tr>\n",
       "    <tr>\n",
       "      <th>50</th>\n",
       "      <td>51</td>\n",
       "      <td>17098.72002</td>\n",
       "      <td>19315.82411</td>\n",
       "      <td>NaN</td>\n",
       "      <td>1</td>\n",
       "      <td>30</td>\n",
       "      <td>6792.695344</td>\n",
       "      <td>AE_IN</td>\n",
       "      <td>0</td>\n",
       "      <td>0</td>\n",
       "      <td>0</td>\n",
       "      <td>0</td>\n",
       "      <td>2.885565</td>\n",
       "      <td>0</td>\n",
       "    </tr>\n",
       "    <tr>\n",
       "      <th>89</th>\n",
       "      <td>90</td>\n",
       "      <td>15567.36742</td>\n",
       "      <td>26949.65022</td>\n",
       "      <td>NaN</td>\n",
       "      <td>0</td>\n",
       "      <td>25</td>\n",
       "      <td>7979.001823</td>\n",
       "      <td>AE_IN</td>\n",
       "      <td>0</td>\n",
       "      <td>0</td>\n",
       "      <td>0</td>\n",
       "      <td>0</td>\n",
       "      <td>0.306404</td>\n",
       "      <td>1</td>\n",
       "    </tr>\n",
       "    <tr>\n",
       "      <th>101</th>\n",
       "      <td>102</td>\n",
       "      <td>16093.97296</td>\n",
       "      <td>48352.61055</td>\n",
       "      <td>NaN</td>\n",
       "      <td>0</td>\n",
       "      <td>17</td>\n",
       "      <td>6495.976883</td>\n",
       "      <td>AE_IN</td>\n",
       "      <td>0</td>\n",
       "      <td>0</td>\n",
       "      <td>0</td>\n",
       "      <td>0</td>\n",
       "      <td>1.980920</td>\n",
       "      <td>0</td>\n",
       "    </tr>\n",
       "  </tbody>\n",
       "</table>\n",
       "</div>"
      ],
      "text/plain": [
       "     cust_id       income  debt_with_other_lenders  credit_score  \\\n",
       "26        27  17050.88032              13796.82406           NaN   \n",
       "44        45  29062.36911              44209.97239           NaN   \n",
       "50        51  17098.72002              19315.82411           NaN   \n",
       "89        90  15567.36742              26949.65022           NaN   \n",
       "101      102  16093.97296              48352.61055           NaN   \n",
       "\n",
       "     has_previous_defaults_other_lenders  num_remittances_prev_12_mth  \\\n",
       "26                                     0                           24   \n",
       "44                                     0                           14   \n",
       "50                                     1                           30   \n",
       "89                                     0                           25   \n",
       "101                                    0                           17   \n",
       "\n",
       "     remittance_amt_prev_12_mth main_remittance_corridor  opened_campaign_1  \\\n",
       "26                  4143.831381                    AE_PK                  0   \n",
       "44                 18310.790570                    AE_IN                  0   \n",
       "50                  6792.695344                    AE_IN                  0   \n",
       "89                  7979.001823                    AE_IN                  0   \n",
       "101                 6495.976883                    AE_IN                  0   \n",
       "\n",
       "     opened_campaign_2  opened_campaign_3  opened_campaign_4  tenure_years  \\\n",
       "26                   0                  0                  0      1.088632   \n",
       "44                   0                  0                  0      2.621682   \n",
       "50                   0                  0                  0      2.885565   \n",
       "89                   0                  0                  0      0.306404   \n",
       "101                  0                  0                  0      1.980920   \n",
       "\n",
       "     churned  \n",
       "26         0  \n",
       "44         0  \n",
       "50         0  \n",
       "89         1  \n",
       "101        0  "
      ]
     },
     "execution_count": 12,
     "metadata": {},
     "output_type": "execute_result"
    }
   ],
   "source": [
    "df3 = df[pd.to_numeric(df.credit_score,errors='coerce').isnull()]\n",
    "df3.head()"
   ]
  },
  {
   "cell_type": "markdown",
   "id": "887e4ea5",
   "metadata": {},
   "source": [
    "the column seem to contain some white spaces, lets see how many"
   ]
  },
  {
   "cell_type": "code",
   "execution_count": 13,
   "id": "4db5ccac",
   "metadata": {},
   "outputs": [
    {
     "data": {
      "text/plain": [
       "((233, 14), (295, 14), (295, 14))"
      ]
     },
     "execution_count": 13,
     "metadata": {},
     "output_type": "execute_result"
    }
   ],
   "source": [
    "df1.shape, df2.shape, df3.shape"
   ]
  },
  {
   "cell_type": "markdown",
   "id": "e17ec552",
   "metadata": {},
   "source": [
    "Lets convert whitespaces to null values"
   ]
  },
  {
   "cell_type": "code",
   "execution_count": 14,
   "id": "fba4f453",
   "metadata": {},
   "outputs": [],
   "source": [
    "new_df = df.replace(r'^\\s*$', np.NaN, regex=True)"
   ]
  },
  {
   "cell_type": "code",
   "execution_count": 15,
   "id": "46139883",
   "metadata": {},
   "outputs": [
    {
     "data": {
      "text/html": [
       "<div>\n",
       "<style scoped>\n",
       "    .dataframe tbody tr th:only-of-type {\n",
       "        vertical-align: middle;\n",
       "    }\n",
       "\n",
       "    .dataframe tbody tr th {\n",
       "        vertical-align: top;\n",
       "    }\n",
       "\n",
       "    .dataframe thead th {\n",
       "        text-align: right;\n",
       "    }\n",
       "</style>\n",
       "<table border=\"1\" class=\"dataframe\">\n",
       "  <thead>\n",
       "    <tr style=\"text-align: right;\">\n",
       "      <th></th>\n",
       "      <th>cust_id</th>\n",
       "      <th>income</th>\n",
       "      <th>debt_with_other_lenders</th>\n",
       "      <th>credit_score</th>\n",
       "      <th>has_previous_defaults_other_lenders</th>\n",
       "      <th>num_remittances_prev_12_mth</th>\n",
       "      <th>remittance_amt_prev_12_mth</th>\n",
       "      <th>main_remittance_corridor</th>\n",
       "      <th>opened_campaign_1</th>\n",
       "      <th>opened_campaign_2</th>\n",
       "      <th>opened_campaign_3</th>\n",
       "      <th>opened_campaign_4</th>\n",
       "      <th>tenure_years</th>\n",
       "      <th>churned</th>\n",
       "    </tr>\n",
       "  </thead>\n",
       "  <tbody>\n",
       "    <tr>\n",
       "      <th>0</th>\n",
       "      <td>1</td>\n",
       "      <td>63863.135880</td>\n",
       "      <td>87983.134390</td>\n",
       "      <td>20.0</td>\n",
       "      <td>0</td>\n",
       "      <td>22</td>\n",
       "      <td>23377.338230</td>\n",
       "      <td>AE_IN</td>\n",
       "      <td>0</td>\n",
       "      <td>0</td>\n",
       "      <td>0</td>\n",
       "      <td>0</td>\n",
       "      <td>2.065258</td>\n",
       "      <td>0</td>\n",
       "    </tr>\n",
       "    <tr>\n",
       "      <th>1</th>\n",
       "      <td>2</td>\n",
       "      <td>51537.479640</td>\n",
       "      <td>63655.109150</td>\n",
       "      <td>17.0</td>\n",
       "      <td>0</td>\n",
       "      <td>20</td>\n",
       "      <td>8353.525522</td>\n",
       "      <td>AE_PK</td>\n",
       "      <td>0</td>\n",
       "      <td>0</td>\n",
       "      <td>0</td>\n",
       "      <td>0</td>\n",
       "      <td>2.761676</td>\n",
       "      <td>0</td>\n",
       "    </tr>\n",
       "    <tr>\n",
       "      <th>2</th>\n",
       "      <td>3</td>\n",
       "      <td>3298.248451</td>\n",
       "      <td>4776.336091</td>\n",
       "      <td>2.0</td>\n",
       "      <td>0</td>\n",
       "      <td>26</td>\n",
       "      <td>1213.782465</td>\n",
       "      <td>AE_PK</td>\n",
       "      <td>0</td>\n",
       "      <td>0</td>\n",
       "      <td>0</td>\n",
       "      <td>0</td>\n",
       "      <td>0.297064</td>\n",
       "      <td>1</td>\n",
       "    </tr>\n",
       "    <tr>\n",
       "      <th>3</th>\n",
       "      <td>4</td>\n",
       "      <td>14402.605700</td>\n",
       "      <td>13925.390670</td>\n",
       "      <td>5.0</td>\n",
       "      <td>0</td>\n",
       "      <td>18</td>\n",
       "      <td>6202.880445</td>\n",
       "      <td>AE_IN</td>\n",
       "      <td>0</td>\n",
       "      <td>0</td>\n",
       "      <td>0</td>\n",
       "      <td>0</td>\n",
       "      <td>2.623058</td>\n",
       "      <td>0</td>\n",
       "    </tr>\n",
       "    <tr>\n",
       "      <th>4</th>\n",
       "      <td>5</td>\n",
       "      <td>8635.683507</td>\n",
       "      <td>10143.513660</td>\n",
       "      <td>3.0</td>\n",
       "      <td>0</td>\n",
       "      <td>21</td>\n",
       "      <td>6175.393029</td>\n",
       "      <td>AE_PK</td>\n",
       "      <td>0</td>\n",
       "      <td>0</td>\n",
       "      <td>0</td>\n",
       "      <td>0</td>\n",
       "      <td>0.160443</td>\n",
       "      <td>0</td>\n",
       "    </tr>\n",
       "  </tbody>\n",
       "</table>\n",
       "</div>"
      ],
      "text/plain": [
       "   cust_id        income  debt_with_other_lenders  credit_score  \\\n",
       "0        1  63863.135880             87983.134390          20.0   \n",
       "1        2  51537.479640             63655.109150          17.0   \n",
       "2        3   3298.248451              4776.336091           2.0   \n",
       "3        4  14402.605700             13925.390670           5.0   \n",
       "4        5   8635.683507             10143.513660           3.0   \n",
       "\n",
       "   has_previous_defaults_other_lenders  num_remittances_prev_12_mth  \\\n",
       "0                                    0                           22   \n",
       "1                                    0                           20   \n",
       "2                                    0                           26   \n",
       "3                                    0                           18   \n",
       "4                                    0                           21   \n",
       "\n",
       "   remittance_amt_prev_12_mth main_remittance_corridor  opened_campaign_1  \\\n",
       "0                23377.338230                    AE_IN                  0   \n",
       "1                 8353.525522                    AE_PK                  0   \n",
       "2                 1213.782465                    AE_PK                  0   \n",
       "3                 6202.880445                    AE_IN                  0   \n",
       "4                 6175.393029                    AE_PK                  0   \n",
       "\n",
       "   opened_campaign_2  opened_campaign_3  opened_campaign_4  tenure_years  \\\n",
       "0                  0                  0                  0      2.065258   \n",
       "1                  0                  0                  0      2.761676   \n",
       "2                  0                  0                  0      0.297064   \n",
       "3                  0                  0                  0      2.623058   \n",
       "4                  0                  0                  0      0.160443   \n",
       "\n",
       "   churned  \n",
       "0        0  \n",
       "1        0  \n",
       "2        1  \n",
       "3        0  \n",
       "4        0  "
      ]
     },
     "execution_count": 15,
     "metadata": {},
     "output_type": "execute_result"
    }
   ],
   "source": [
    "new_df.head()"
   ]
  },
  {
   "cell_type": "markdown",
   "id": "a2e7b217",
   "metadata": {},
   "source": [
    "Lets see what dataFrame looks like "
   ]
  },
  {
   "cell_type": "code",
   "execution_count": 16,
   "id": "3287c795",
   "metadata": {},
   "outputs": [
    {
     "data": {
      "text/html": [
       "<div>\n",
       "<style scoped>\n",
       "    .dataframe tbody tr th:only-of-type {\n",
       "        vertical-align: middle;\n",
       "    }\n",
       "\n",
       "    .dataframe tbody tr th {\n",
       "        vertical-align: top;\n",
       "    }\n",
       "\n",
       "    .dataframe thead th {\n",
       "        text-align: right;\n",
       "    }\n",
       "</style>\n",
       "<table border=\"1\" class=\"dataframe\">\n",
       "  <thead>\n",
       "    <tr style=\"text-align: right;\">\n",
       "      <th></th>\n",
       "      <th>cust_id</th>\n",
       "      <th>income</th>\n",
       "      <th>debt_with_other_lenders</th>\n",
       "      <th>credit_score</th>\n",
       "      <th>has_previous_defaults_other_lenders</th>\n",
       "      <th>num_remittances_prev_12_mth</th>\n",
       "      <th>remittance_amt_prev_12_mth</th>\n",
       "      <th>main_remittance_corridor</th>\n",
       "      <th>opened_campaign_1</th>\n",
       "      <th>opened_campaign_2</th>\n",
       "      <th>opened_campaign_3</th>\n",
       "      <th>opened_campaign_4</th>\n",
       "      <th>tenure_years</th>\n",
       "      <th>churned</th>\n",
       "    </tr>\n",
       "  </thead>\n",
       "  <tbody>\n",
       "    <tr>\n",
       "      <th>59</th>\n",
       "      <td>60</td>\n",
       "      <td>NaN</td>\n",
       "      <td>43289.045190</td>\n",
       "      <td>9.0</td>\n",
       "      <td>0</td>\n",
       "      <td>18</td>\n",
       "      <td>12033.913160</td>\n",
       "      <td>AE_PK</td>\n",
       "      <td>0</td>\n",
       "      <td>0</td>\n",
       "      <td>0</td>\n",
       "      <td>0</td>\n",
       "      <td>2.395957</td>\n",
       "      <td>0</td>\n",
       "    </tr>\n",
       "    <tr>\n",
       "      <th>94</th>\n",
       "      <td>95</td>\n",
       "      <td>NaN</td>\n",
       "      <td>24642.825310</td>\n",
       "      <td>7.0</td>\n",
       "      <td>1</td>\n",
       "      <td>22</td>\n",
       "      <td>8236.839606</td>\n",
       "      <td>AE_PK</td>\n",
       "      <td>1</td>\n",
       "      <td>0</td>\n",
       "      <td>0</td>\n",
       "      <td>1</td>\n",
       "      <td>1.679304</td>\n",
       "      <td>0</td>\n",
       "    </tr>\n",
       "    <tr>\n",
       "      <th>212</th>\n",
       "      <td>213</td>\n",
       "      <td>NaN</td>\n",
       "      <td>1632.956718</td>\n",
       "      <td>2.0</td>\n",
       "      <td>0</td>\n",
       "      <td>18</td>\n",
       "      <td>1499.629811</td>\n",
       "      <td>AE_PK</td>\n",
       "      <td>0</td>\n",
       "      <td>0</td>\n",
       "      <td>0</td>\n",
       "      <td>0</td>\n",
       "      <td>1.382719</td>\n",
       "      <td>0</td>\n",
       "    </tr>\n",
       "    <tr>\n",
       "      <th>232</th>\n",
       "      <td>233</td>\n",
       "      <td>NaN</td>\n",
       "      <td>16213.468180</td>\n",
       "      <td>4.0</td>\n",
       "      <td>0</td>\n",
       "      <td>25</td>\n",
       "      <td>7495.786348</td>\n",
       "      <td>AE_PK</td>\n",
       "      <td>0</td>\n",
       "      <td>0</td>\n",
       "      <td>0</td>\n",
       "      <td>0</td>\n",
       "      <td>0.523328</td>\n",
       "      <td>0</td>\n",
       "    </tr>\n",
       "    <tr>\n",
       "      <th>235</th>\n",
       "      <td>236</td>\n",
       "      <td>NaN</td>\n",
       "      <td>55011.606990</td>\n",
       "      <td>8.0</td>\n",
       "      <td>1</td>\n",
       "      <td>28</td>\n",
       "      <td>1150.097585</td>\n",
       "      <td>AE_IN</td>\n",
       "      <td>0</td>\n",
       "      <td>0</td>\n",
       "      <td>0</td>\n",
       "      <td>1</td>\n",
       "      <td>0.770036</td>\n",
       "      <td>1</td>\n",
       "    </tr>\n",
       "  </tbody>\n",
       "</table>\n",
       "</div>"
      ],
      "text/plain": [
       "     cust_id  income  debt_with_other_lenders  credit_score  \\\n",
       "59        60     NaN             43289.045190           9.0   \n",
       "94        95     NaN             24642.825310           7.0   \n",
       "212      213     NaN              1632.956718           2.0   \n",
       "232      233     NaN             16213.468180           4.0   \n",
       "235      236     NaN             55011.606990           8.0   \n",
       "\n",
       "     has_previous_defaults_other_lenders  num_remittances_prev_12_mth  \\\n",
       "59                                     0                           18   \n",
       "94                                     1                           22   \n",
       "212                                    0                           18   \n",
       "232                                    0                           25   \n",
       "235                                    1                           28   \n",
       "\n",
       "     remittance_amt_prev_12_mth main_remittance_corridor  opened_campaign_1  \\\n",
       "59                 12033.913160                    AE_PK                  0   \n",
       "94                  8236.839606                    AE_PK                  1   \n",
       "212                 1499.629811                    AE_PK                  0   \n",
       "232                 7495.786348                    AE_PK                  0   \n",
       "235                 1150.097585                    AE_IN                  0   \n",
       "\n",
       "     opened_campaign_2  opened_campaign_3  opened_campaign_4  tenure_years  \\\n",
       "59                   0                  0                  0      2.395957   \n",
       "94                   0                  0                  1      1.679304   \n",
       "212                  0                  0                  0      1.382719   \n",
       "232                  0                  0                  0      0.523328   \n",
       "235                  0                  0                  1      0.770036   \n",
       "\n",
       "     churned  \n",
       "59         0  \n",
       "94         0  \n",
       "212        0  \n",
       "232        0  \n",
       "235        1  "
      ]
     },
     "execution_count": 16,
     "metadata": {},
     "output_type": "execute_result"
    }
   ],
   "source": [
    "df[pd.to_numeric(df.income,errors='coerce').isnull()].head()"
   ]
  },
  {
   "cell_type": "code",
   "execution_count": 17,
   "id": "8dbfd649",
   "metadata": {},
   "outputs": [
    {
     "data": {
      "text/html": [
       "<div>\n",
       "<style scoped>\n",
       "    .dataframe tbody tr th:only-of-type {\n",
       "        vertical-align: middle;\n",
       "    }\n",
       "\n",
       "    .dataframe tbody tr th {\n",
       "        vertical-align: top;\n",
       "    }\n",
       "\n",
       "    .dataframe thead th {\n",
       "        text-align: right;\n",
       "    }\n",
       "</style>\n",
       "<table border=\"1\" class=\"dataframe\">\n",
       "  <thead>\n",
       "    <tr style=\"text-align: right;\">\n",
       "      <th></th>\n",
       "      <th>cust_id</th>\n",
       "      <th>income</th>\n",
       "      <th>debt_with_other_lenders</th>\n",
       "      <th>credit_score</th>\n",
       "      <th>has_previous_defaults_other_lenders</th>\n",
       "      <th>num_remittances_prev_12_mth</th>\n",
       "      <th>remittance_amt_prev_12_mth</th>\n",
       "      <th>main_remittance_corridor</th>\n",
       "      <th>opened_campaign_1</th>\n",
       "      <th>opened_campaign_2</th>\n",
       "      <th>opened_campaign_3</th>\n",
       "      <th>opened_campaign_4</th>\n",
       "      <th>tenure_years</th>\n",
       "      <th>churned</th>\n",
       "    </tr>\n",
       "  </thead>\n",
       "  <tbody>\n",
       "    <tr>\n",
       "      <th>15</th>\n",
       "      <td>16</td>\n",
       "      <td>12664.869050</td>\n",
       "      <td>NaN</td>\n",
       "      <td>5.0</td>\n",
       "      <td>0</td>\n",
       "      <td>23</td>\n",
       "      <td>3533.582080</td>\n",
       "      <td>AE_IN</td>\n",
       "      <td>0</td>\n",
       "      <td>0</td>\n",
       "      <td>0</td>\n",
       "      <td>0</td>\n",
       "      <td>0.368532</td>\n",
       "      <td>1</td>\n",
       "    </tr>\n",
       "    <tr>\n",
       "      <th>22</th>\n",
       "      <td>23</td>\n",
       "      <td>13734.955730</td>\n",
       "      <td>NaN</td>\n",
       "      <td>7.0</td>\n",
       "      <td>1</td>\n",
       "      <td>28</td>\n",
       "      <td>4324.823984</td>\n",
       "      <td>AE_IN</td>\n",
       "      <td>0</td>\n",
       "      <td>0</td>\n",
       "      <td>0</td>\n",
       "      <td>0</td>\n",
       "      <td>0.479024</td>\n",
       "      <td>1</td>\n",
       "    </tr>\n",
       "    <tr>\n",
       "      <th>40</th>\n",
       "      <td>41</td>\n",
       "      <td>6677.353290</td>\n",
       "      <td>NaN</td>\n",
       "      <td>4.0</td>\n",
       "      <td>1</td>\n",
       "      <td>14</td>\n",
       "      <td>4546.988818</td>\n",
       "      <td>AE_PK</td>\n",
       "      <td>0</td>\n",
       "      <td>0</td>\n",
       "      <td>0</td>\n",
       "      <td>0</td>\n",
       "      <td>1.199639</td>\n",
       "      <td>0</td>\n",
       "    </tr>\n",
       "    <tr>\n",
       "      <th>109</th>\n",
       "      <td>110</td>\n",
       "      <td>6174.622364</td>\n",
       "      <td>NaN</td>\n",
       "      <td>3.0</td>\n",
       "      <td>0</td>\n",
       "      <td>25</td>\n",
       "      <td>1169.718805</td>\n",
       "      <td>AE_IN</td>\n",
       "      <td>1</td>\n",
       "      <td>0</td>\n",
       "      <td>0</td>\n",
       "      <td>0</td>\n",
       "      <td>1.577643</td>\n",
       "      <td>0</td>\n",
       "    </tr>\n",
       "    <tr>\n",
       "      <th>130</th>\n",
       "      <td>131</td>\n",
       "      <td>8900.689168</td>\n",
       "      <td>NaN</td>\n",
       "      <td>4.0</td>\n",
       "      <td>0</td>\n",
       "      <td>24</td>\n",
       "      <td>1902.738131</td>\n",
       "      <td>AE_IN</td>\n",
       "      <td>1</td>\n",
       "      <td>0</td>\n",
       "      <td>0</td>\n",
       "      <td>0</td>\n",
       "      <td>1.588867</td>\n",
       "      <td>0</td>\n",
       "    </tr>\n",
       "  </tbody>\n",
       "</table>\n",
       "</div>"
      ],
      "text/plain": [
       "     cust_id        income  debt_with_other_lenders  credit_score  \\\n",
       "15        16  12664.869050                      NaN           5.0   \n",
       "22        23  13734.955730                      NaN           7.0   \n",
       "40        41   6677.353290                      NaN           4.0   \n",
       "109      110   6174.622364                      NaN           3.0   \n",
       "130      131   8900.689168                      NaN           4.0   \n",
       "\n",
       "     has_previous_defaults_other_lenders  num_remittances_prev_12_mth  \\\n",
       "15                                     0                           23   \n",
       "22                                     1                           28   \n",
       "40                                     1                           14   \n",
       "109                                    0                           25   \n",
       "130                                    0                           24   \n",
       "\n",
       "     remittance_amt_prev_12_mth main_remittance_corridor  opened_campaign_1  \\\n",
       "15                  3533.582080                    AE_IN                  0   \n",
       "22                  4324.823984                    AE_IN                  0   \n",
       "40                  4546.988818                    AE_PK                  0   \n",
       "109                 1169.718805                    AE_IN                  1   \n",
       "130                 1902.738131                    AE_IN                  1   \n",
       "\n",
       "     opened_campaign_2  opened_campaign_3  opened_campaign_4  tenure_years  \\\n",
       "15                   0                  0                  0      0.368532   \n",
       "22                   0                  0                  0      0.479024   \n",
       "40                   0                  0                  0      1.199639   \n",
       "109                  0                  0                  0      1.577643   \n",
       "130                  0                  0                  0      1.588867   \n",
       "\n",
       "     churned  \n",
       "15         1  \n",
       "22         1  \n",
       "40         0  \n",
       "109        0  \n",
       "130        0  "
      ]
     },
     "execution_count": 17,
     "metadata": {},
     "output_type": "execute_result"
    }
   ],
   "source": [
    "df[pd.to_numeric(df.debt_with_other_lenders,errors='coerce').isnull()].head()"
   ]
  },
  {
   "cell_type": "code",
   "execution_count": 18,
   "id": "903a3313",
   "metadata": {},
   "outputs": [
    {
     "data": {
      "text/html": [
       "<div>\n",
       "<style scoped>\n",
       "    .dataframe tbody tr th:only-of-type {\n",
       "        vertical-align: middle;\n",
       "    }\n",
       "\n",
       "    .dataframe tbody tr th {\n",
       "        vertical-align: top;\n",
       "    }\n",
       "\n",
       "    .dataframe thead th {\n",
       "        text-align: right;\n",
       "    }\n",
       "</style>\n",
       "<table border=\"1\" class=\"dataframe\">\n",
       "  <thead>\n",
       "    <tr style=\"text-align: right;\">\n",
       "      <th></th>\n",
       "      <th>cust_id</th>\n",
       "      <th>income</th>\n",
       "      <th>debt_with_other_lenders</th>\n",
       "      <th>credit_score</th>\n",
       "      <th>has_previous_defaults_other_lenders</th>\n",
       "      <th>num_remittances_prev_12_mth</th>\n",
       "      <th>remittance_amt_prev_12_mth</th>\n",
       "      <th>main_remittance_corridor</th>\n",
       "      <th>opened_campaign_1</th>\n",
       "      <th>opened_campaign_2</th>\n",
       "      <th>opened_campaign_3</th>\n",
       "      <th>opened_campaign_4</th>\n",
       "      <th>tenure_years</th>\n",
       "      <th>churned</th>\n",
       "    </tr>\n",
       "  </thead>\n",
       "  <tbody>\n",
       "    <tr>\n",
       "      <th>26</th>\n",
       "      <td>27</td>\n",
       "      <td>17050.88032</td>\n",
       "      <td>13796.82406</td>\n",
       "      <td>NaN</td>\n",
       "      <td>0</td>\n",
       "      <td>24</td>\n",
       "      <td>4143.831381</td>\n",
       "      <td>AE_PK</td>\n",
       "      <td>0</td>\n",
       "      <td>0</td>\n",
       "      <td>0</td>\n",
       "      <td>0</td>\n",
       "      <td>1.088632</td>\n",
       "      <td>0</td>\n",
       "    </tr>\n",
       "    <tr>\n",
       "      <th>44</th>\n",
       "      <td>45</td>\n",
       "      <td>29062.36911</td>\n",
       "      <td>44209.97239</td>\n",
       "      <td>NaN</td>\n",
       "      <td>0</td>\n",
       "      <td>14</td>\n",
       "      <td>18310.790570</td>\n",
       "      <td>AE_IN</td>\n",
       "      <td>0</td>\n",
       "      <td>0</td>\n",
       "      <td>0</td>\n",
       "      <td>0</td>\n",
       "      <td>2.621682</td>\n",
       "      <td>0</td>\n",
       "    </tr>\n",
       "    <tr>\n",
       "      <th>50</th>\n",
       "      <td>51</td>\n",
       "      <td>17098.72002</td>\n",
       "      <td>19315.82411</td>\n",
       "      <td>NaN</td>\n",
       "      <td>1</td>\n",
       "      <td>30</td>\n",
       "      <td>6792.695344</td>\n",
       "      <td>AE_IN</td>\n",
       "      <td>0</td>\n",
       "      <td>0</td>\n",
       "      <td>0</td>\n",
       "      <td>0</td>\n",
       "      <td>2.885565</td>\n",
       "      <td>0</td>\n",
       "    </tr>\n",
       "    <tr>\n",
       "      <th>89</th>\n",
       "      <td>90</td>\n",
       "      <td>15567.36742</td>\n",
       "      <td>26949.65022</td>\n",
       "      <td>NaN</td>\n",
       "      <td>0</td>\n",
       "      <td>25</td>\n",
       "      <td>7979.001823</td>\n",
       "      <td>AE_IN</td>\n",
       "      <td>0</td>\n",
       "      <td>0</td>\n",
       "      <td>0</td>\n",
       "      <td>0</td>\n",
       "      <td>0.306404</td>\n",
       "      <td>1</td>\n",
       "    </tr>\n",
       "    <tr>\n",
       "      <th>101</th>\n",
       "      <td>102</td>\n",
       "      <td>16093.97296</td>\n",
       "      <td>48352.61055</td>\n",
       "      <td>NaN</td>\n",
       "      <td>0</td>\n",
       "      <td>17</td>\n",
       "      <td>6495.976883</td>\n",
       "      <td>AE_IN</td>\n",
       "      <td>0</td>\n",
       "      <td>0</td>\n",
       "      <td>0</td>\n",
       "      <td>0</td>\n",
       "      <td>1.980920</td>\n",
       "      <td>0</td>\n",
       "    </tr>\n",
       "  </tbody>\n",
       "</table>\n",
       "</div>"
      ],
      "text/plain": [
       "     cust_id       income  debt_with_other_lenders  credit_score  \\\n",
       "26        27  17050.88032              13796.82406           NaN   \n",
       "44        45  29062.36911              44209.97239           NaN   \n",
       "50        51  17098.72002              19315.82411           NaN   \n",
       "89        90  15567.36742              26949.65022           NaN   \n",
       "101      102  16093.97296              48352.61055           NaN   \n",
       "\n",
       "     has_previous_defaults_other_lenders  num_remittances_prev_12_mth  \\\n",
       "26                                     0                           24   \n",
       "44                                     0                           14   \n",
       "50                                     1                           30   \n",
       "89                                     0                           25   \n",
       "101                                    0                           17   \n",
       "\n",
       "     remittance_amt_prev_12_mth main_remittance_corridor  opened_campaign_1  \\\n",
       "26                  4143.831381                    AE_PK                  0   \n",
       "44                 18310.790570                    AE_IN                  0   \n",
       "50                  6792.695344                    AE_IN                  0   \n",
       "89                  7979.001823                    AE_IN                  0   \n",
       "101                 6495.976883                    AE_IN                  0   \n",
       "\n",
       "     opened_campaign_2  opened_campaign_3  opened_campaign_4  tenure_years  \\\n",
       "26                   0                  0                  0      1.088632   \n",
       "44                   0                  0                  0      2.621682   \n",
       "50                   0                  0                  0      2.885565   \n",
       "89                   0                  0                  0      0.306404   \n",
       "101                  0                  0                  0      1.980920   \n",
       "\n",
       "     churned  \n",
       "26         0  \n",
       "44         0  \n",
       "50         0  \n",
       "89         1  \n",
       "101        0  "
      ]
     },
     "execution_count": 18,
     "metadata": {},
     "output_type": "execute_result"
    }
   ],
   "source": [
    "df[pd.to_numeric(df.credit_score,errors='coerce').isnull()].head()"
   ]
  },
  {
   "cell_type": "markdown",
   "id": "31a7d4ef",
   "metadata": {},
   "source": [
    "To Further Explore my Data I want to drop rows with NaN values"
   ]
  },
  {
   "cell_type": "code",
   "execution_count": 19,
   "id": "be5d86eb",
   "metadata": {},
   "outputs": [
    {
     "data": {
      "text/html": [
       "<div>\n",
       "<style scoped>\n",
       "    .dataframe tbody tr th:only-of-type {\n",
       "        vertical-align: middle;\n",
       "    }\n",
       "\n",
       "    .dataframe tbody tr th {\n",
       "        vertical-align: top;\n",
       "    }\n",
       "\n",
       "    .dataframe thead th {\n",
       "        text-align: right;\n",
       "    }\n",
       "</style>\n",
       "<table border=\"1\" class=\"dataframe\">\n",
       "  <thead>\n",
       "    <tr style=\"text-align: right;\">\n",
       "      <th></th>\n",
       "      <th>cust_id</th>\n",
       "      <th>income</th>\n",
       "      <th>debt_with_other_lenders</th>\n",
       "      <th>credit_score</th>\n",
       "      <th>has_previous_defaults_other_lenders</th>\n",
       "      <th>num_remittances_prev_12_mth</th>\n",
       "      <th>remittance_amt_prev_12_mth</th>\n",
       "      <th>main_remittance_corridor</th>\n",
       "      <th>opened_campaign_1</th>\n",
       "      <th>opened_campaign_2</th>\n",
       "      <th>opened_campaign_3</th>\n",
       "      <th>opened_campaign_4</th>\n",
       "      <th>tenure_years</th>\n",
       "      <th>churned</th>\n",
       "    </tr>\n",
       "  </thead>\n",
       "  <tbody>\n",
       "    <tr>\n",
       "      <th>0</th>\n",
       "      <td>1</td>\n",
       "      <td>63863.135880</td>\n",
       "      <td>87983.134390</td>\n",
       "      <td>20.0</td>\n",
       "      <td>0</td>\n",
       "      <td>22</td>\n",
       "      <td>23377.338230</td>\n",
       "      <td>AE_IN</td>\n",
       "      <td>0</td>\n",
       "      <td>0</td>\n",
       "      <td>0</td>\n",
       "      <td>0</td>\n",
       "      <td>2.065258</td>\n",
       "      <td>0</td>\n",
       "    </tr>\n",
       "    <tr>\n",
       "      <th>1</th>\n",
       "      <td>2</td>\n",
       "      <td>51537.479640</td>\n",
       "      <td>63655.109150</td>\n",
       "      <td>17.0</td>\n",
       "      <td>0</td>\n",
       "      <td>20</td>\n",
       "      <td>8353.525522</td>\n",
       "      <td>AE_PK</td>\n",
       "      <td>0</td>\n",
       "      <td>0</td>\n",
       "      <td>0</td>\n",
       "      <td>0</td>\n",
       "      <td>2.761676</td>\n",
       "      <td>0</td>\n",
       "    </tr>\n",
       "    <tr>\n",
       "      <th>2</th>\n",
       "      <td>3</td>\n",
       "      <td>3298.248451</td>\n",
       "      <td>4776.336091</td>\n",
       "      <td>2.0</td>\n",
       "      <td>0</td>\n",
       "      <td>26</td>\n",
       "      <td>1213.782465</td>\n",
       "      <td>AE_PK</td>\n",
       "      <td>0</td>\n",
       "      <td>0</td>\n",
       "      <td>0</td>\n",
       "      <td>0</td>\n",
       "      <td>0.297064</td>\n",
       "      <td>1</td>\n",
       "    </tr>\n",
       "    <tr>\n",
       "      <th>3</th>\n",
       "      <td>4</td>\n",
       "      <td>14402.605700</td>\n",
       "      <td>13925.390670</td>\n",
       "      <td>5.0</td>\n",
       "      <td>0</td>\n",
       "      <td>18</td>\n",
       "      <td>6202.880445</td>\n",
       "      <td>AE_IN</td>\n",
       "      <td>0</td>\n",
       "      <td>0</td>\n",
       "      <td>0</td>\n",
       "      <td>0</td>\n",
       "      <td>2.623058</td>\n",
       "      <td>0</td>\n",
       "    </tr>\n",
       "    <tr>\n",
       "      <th>4</th>\n",
       "      <td>5</td>\n",
       "      <td>8635.683507</td>\n",
       "      <td>10143.513660</td>\n",
       "      <td>3.0</td>\n",
       "      <td>0</td>\n",
       "      <td>21</td>\n",
       "      <td>6175.393029</td>\n",
       "      <td>AE_PK</td>\n",
       "      <td>0</td>\n",
       "      <td>0</td>\n",
       "      <td>0</td>\n",
       "      <td>0</td>\n",
       "      <td>0.160443</td>\n",
       "      <td>0</td>\n",
       "    </tr>\n",
       "  </tbody>\n",
       "</table>\n",
       "</div>"
      ],
      "text/plain": [
       "   cust_id        income  debt_with_other_lenders  credit_score  \\\n",
       "0        1  63863.135880             87983.134390          20.0   \n",
       "1        2  51537.479640             63655.109150          17.0   \n",
       "2        3   3298.248451              4776.336091           2.0   \n",
       "3        4  14402.605700             13925.390670           5.0   \n",
       "4        5   8635.683507             10143.513660           3.0   \n",
       "\n",
       "   has_previous_defaults_other_lenders  num_remittances_prev_12_mth  \\\n",
       "0                                    0                           22   \n",
       "1                                    0                           20   \n",
       "2                                    0                           26   \n",
       "3                                    0                           18   \n",
       "4                                    0                           21   \n",
       "\n",
       "   remittance_amt_prev_12_mth main_remittance_corridor  opened_campaign_1  \\\n",
       "0                23377.338230                    AE_IN                  0   \n",
       "1                 8353.525522                    AE_PK                  0   \n",
       "2                 1213.782465                    AE_PK                  0   \n",
       "3                 6202.880445                    AE_IN                  0   \n",
       "4                 6175.393029                    AE_PK                  0   \n",
       "\n",
       "   opened_campaign_2  opened_campaign_3  opened_campaign_4  tenure_years  \\\n",
       "0                  0                  0                  0      2.065258   \n",
       "1                  0                  0                  0      2.761676   \n",
       "2                  0                  0                  0      0.297064   \n",
       "3                  0                  0                  0      2.623058   \n",
       "4                  0                  0                  0      0.160443   \n",
       "\n",
       "   churned  \n",
       "0        0  \n",
       "1        0  \n",
       "2        1  \n",
       "3        0  \n",
       "4        0  "
      ]
     },
     "execution_count": 19,
     "metadata": {},
     "output_type": "execute_result"
    }
   ],
   "source": [
    "df_no_na = new_df.dropna()\n",
    "df_no_na.head()"
   ]
  },
  {
   "cell_type": "code",
   "execution_count": 20,
   "id": "a8e42ef0",
   "metadata": {},
   "outputs": [
    {
     "data": {
      "text/plain": [
       "(6638, 14)"
      ]
     },
     "execution_count": 20,
     "metadata": {},
     "output_type": "execute_result"
    }
   ],
   "source": [
    "df_no_na.shape"
   ]
  },
  {
   "cell_type": "markdown",
   "id": "be8bd86e",
   "metadata": {},
   "source": [
    "After droping missing value, lets see howmuch data left for analysis"
   ]
  },
  {
   "cell_type": "code",
   "execution_count": 21,
   "id": "479a38e0",
   "metadata": {},
   "outputs": [
    {
     "name": "stdout",
     "output_type": "stream",
     "text": [
      "Percentage of data left after dropping missing values 89.31646932185146%\n"
     ]
    }
   ],
   "source": [
    "print('Percentage of data left after dropping missing values {}%'.format(((df_no_na.shape[0])/(df.shape[0]))*100))"
   ]
  },
  {
   "cell_type": "markdown",
   "id": "b4304024",
   "metadata": {},
   "source": [
    "Lets look at what the values of our data columns look like"
   ]
  },
  {
   "cell_type": "code",
   "execution_count": 22,
   "id": "96ecdb91",
   "metadata": {},
   "outputs": [
    {
     "name": "stdout",
     "output_type": "stream",
     "text": [
      "cust_id: [   1    2    3 ... 7430 7431 7432]\n",
      "income: [63863.13588  51537.47964   3298.248451 ... 46424.99755  28140.26622\n",
      " 14095.82627 ]\n",
      "debt_with_other_lenders: [87983.13439  63655.10915   4776.336091 ... 24527.67428  58965.30648\n",
      " 13166.6542  ]\n",
      "credit_score: [20. 17.  2.  5.  3.  7.  1.  8.  9.  4.  6. 12. 19. 11. 13. 14. 16. 10.\n",
      " 15. 18.]\n",
      "has_previous_defaults_other_lenders: [0 1]\n",
      "num_remittances_prev_12_mth: [ 22  20  26  18  21  13  24  25  31  28  27  30  29  23 316  16  12  34\n",
      "   8  19  33 324  17  32  35 327  15 347 339  14  11 314 328 329 323   9\n",
      "  36 330 349  37  40 336 341 319 344 348 345 325 311 303 309  10 338 321\n",
      " 337  38 300 313 302 340 308 322 342 304 333 334 317 343 306 335 346 310\n",
      " 320 307 301 312 318 305 332 350  39 315 331 326   7]\n",
      "remittance_amt_prev_12_mth: [23377.33823   8353.525522  1213.782465 ... 22261.95628   6162.548544\n",
      "  4289.214953]\n",
      "main_remittance_corridor: ['AE_IN' 'AE_PK' 'AE_PH']\n",
      "opened_campaign_1: [0 1]\n",
      "opened_campaign_2: [0 1]\n",
      "opened_campaign_3: [0 1]\n",
      "opened_campaign_4: [0 1]\n",
      "tenure_years: [2.06525811 2.76167614 0.2970638  ... 0.48482528 0.49382951 0.425786  ]\n",
      "churned: [0 1]\n"
     ]
    }
   ],
   "source": [
    "def print_unique_col_values(df):\n",
    "       for column in df_no_na:\n",
    "            print(f'{column}: {df_no_na[column].unique()}') \n",
    "print_unique_col_values(df_no_na)"
   ]
  },
  {
   "cell_type": "markdown",
   "id": "84dcae6e",
   "metadata": {},
   "source": [
    "And again our data types"
   ]
  },
  {
   "cell_type": "code",
   "execution_count": 23,
   "id": "02fc224d",
   "metadata": {},
   "outputs": [
    {
     "data": {
      "text/plain": [
       "cust_id                                  int64\n",
       "income                                 float64\n",
       "debt_with_other_lenders                float64\n",
       "credit_score                           float64\n",
       "has_previous_defaults_other_lenders      int64\n",
       "num_remittances_prev_12_mth              int64\n",
       "remittance_amt_prev_12_mth             float64\n",
       "main_remittance_corridor                object\n",
       "opened_campaign_1                        int64\n",
       "opened_campaign_2                        int64\n",
       "opened_campaign_3                        int64\n",
       "opened_campaign_4                        int64\n",
       "tenure_years                           float64\n",
       "churned                                  int64\n",
       "dtype: object"
      ]
     },
     "execution_count": 23,
     "metadata": {},
     "output_type": "execute_result"
    }
   ],
   "source": [
    "df_no_na.dtypes"
   ]
  },
  {
   "cell_type": "markdown",
   "id": "b1da29a0",
   "metadata": {},
   "source": [
    "One of our feature/colums apears to be a categorical data, lets treat that"
   ]
  },
  {
   "cell_type": "markdown",
   "id": "2aca252f",
   "metadata": {},
   "source": [
    "Performing One hot encoding for categorical column (main_remittance_corridor)"
   ]
  },
  {
   "cell_type": "code",
   "execution_count": 24,
   "id": "8e4c3ba4",
   "metadata": {},
   "outputs": [
    {
     "data": {
      "text/plain": [
       "Index(['cust_id', 'income', 'debt_with_other_lenders', 'credit_score',\n",
       "       'has_previous_defaults_other_lenders', 'num_remittances_prev_12_mth',\n",
       "       'remittance_amt_prev_12_mth', 'opened_campaign_1', 'opened_campaign_2',\n",
       "       'opened_campaign_3', 'opened_campaign_4', 'tenure_years', 'churned',\n",
       "       'main_remittance_corridor_AE_IN', 'main_remittance_corridor_AE_PH',\n",
       "       'main_remittance_corridor_AE_PK'],\n",
       "      dtype='object')"
      ]
     },
     "execution_count": 24,
     "metadata": {},
     "output_type": "execute_result"
    }
   ],
   "source": [
    "hot_encoded = pd.get_dummies(data=df_no_na, columns=['main_remittance_corridor'])\n",
    "hot_encoded.columns"
   ]
  },
  {
   "cell_type": "code",
   "execution_count": 25,
   "id": "40bff8eb",
   "metadata": {},
   "outputs": [
    {
     "data": {
      "text/html": [
       "<div>\n",
       "<style scoped>\n",
       "    .dataframe tbody tr th:only-of-type {\n",
       "        vertical-align: middle;\n",
       "    }\n",
       "\n",
       "    .dataframe tbody tr th {\n",
       "        vertical-align: top;\n",
       "    }\n",
       "\n",
       "    .dataframe thead th {\n",
       "        text-align: right;\n",
       "    }\n",
       "</style>\n",
       "<table border=\"1\" class=\"dataframe\">\n",
       "  <thead>\n",
       "    <tr style=\"text-align: right;\">\n",
       "      <th></th>\n",
       "      <th>cust_id</th>\n",
       "      <th>income</th>\n",
       "      <th>debt_with_other_lenders</th>\n",
       "      <th>credit_score</th>\n",
       "      <th>has_previous_defaults_other_lenders</th>\n",
       "      <th>num_remittances_prev_12_mth</th>\n",
       "      <th>remittance_amt_prev_12_mth</th>\n",
       "      <th>opened_campaign_1</th>\n",
       "      <th>opened_campaign_2</th>\n",
       "      <th>opened_campaign_3</th>\n",
       "      <th>opened_campaign_4</th>\n",
       "      <th>tenure_years</th>\n",
       "      <th>churned</th>\n",
       "      <th>main_remittance_corridor_AE_IN</th>\n",
       "      <th>main_remittance_corridor_AE_PH</th>\n",
       "      <th>main_remittance_corridor_AE_PK</th>\n",
       "    </tr>\n",
       "  </thead>\n",
       "  <tbody>\n",
       "    <tr>\n",
       "      <th>0</th>\n",
       "      <td>1</td>\n",
       "      <td>63863.135880</td>\n",
       "      <td>87983.134390</td>\n",
       "      <td>20.0</td>\n",
       "      <td>0</td>\n",
       "      <td>22</td>\n",
       "      <td>23377.338230</td>\n",
       "      <td>0</td>\n",
       "      <td>0</td>\n",
       "      <td>0</td>\n",
       "      <td>0</td>\n",
       "      <td>2.065258</td>\n",
       "      <td>0</td>\n",
       "      <td>1</td>\n",
       "      <td>0</td>\n",
       "      <td>0</td>\n",
       "    </tr>\n",
       "    <tr>\n",
       "      <th>1</th>\n",
       "      <td>2</td>\n",
       "      <td>51537.479640</td>\n",
       "      <td>63655.109150</td>\n",
       "      <td>17.0</td>\n",
       "      <td>0</td>\n",
       "      <td>20</td>\n",
       "      <td>8353.525522</td>\n",
       "      <td>0</td>\n",
       "      <td>0</td>\n",
       "      <td>0</td>\n",
       "      <td>0</td>\n",
       "      <td>2.761676</td>\n",
       "      <td>0</td>\n",
       "      <td>0</td>\n",
       "      <td>0</td>\n",
       "      <td>1</td>\n",
       "    </tr>\n",
       "    <tr>\n",
       "      <th>2</th>\n",
       "      <td>3</td>\n",
       "      <td>3298.248451</td>\n",
       "      <td>4776.336091</td>\n",
       "      <td>2.0</td>\n",
       "      <td>0</td>\n",
       "      <td>26</td>\n",
       "      <td>1213.782465</td>\n",
       "      <td>0</td>\n",
       "      <td>0</td>\n",
       "      <td>0</td>\n",
       "      <td>0</td>\n",
       "      <td>0.297064</td>\n",
       "      <td>1</td>\n",
       "      <td>0</td>\n",
       "      <td>0</td>\n",
       "      <td>1</td>\n",
       "    </tr>\n",
       "    <tr>\n",
       "      <th>3</th>\n",
       "      <td>4</td>\n",
       "      <td>14402.605700</td>\n",
       "      <td>13925.390670</td>\n",
       "      <td>5.0</td>\n",
       "      <td>0</td>\n",
       "      <td>18</td>\n",
       "      <td>6202.880445</td>\n",
       "      <td>0</td>\n",
       "      <td>0</td>\n",
       "      <td>0</td>\n",
       "      <td>0</td>\n",
       "      <td>2.623058</td>\n",
       "      <td>0</td>\n",
       "      <td>1</td>\n",
       "      <td>0</td>\n",
       "      <td>0</td>\n",
       "    </tr>\n",
       "    <tr>\n",
       "      <th>4</th>\n",
       "      <td>5</td>\n",
       "      <td>8635.683507</td>\n",
       "      <td>10143.513660</td>\n",
       "      <td>3.0</td>\n",
       "      <td>0</td>\n",
       "      <td>21</td>\n",
       "      <td>6175.393029</td>\n",
       "      <td>0</td>\n",
       "      <td>0</td>\n",
       "      <td>0</td>\n",
       "      <td>0</td>\n",
       "      <td>0.160443</td>\n",
       "      <td>0</td>\n",
       "      <td>0</td>\n",
       "      <td>0</td>\n",
       "      <td>1</td>\n",
       "    </tr>\n",
       "  </tbody>\n",
       "</table>\n",
       "</div>"
      ],
      "text/plain": [
       "   cust_id        income  debt_with_other_lenders  credit_score  \\\n",
       "0        1  63863.135880             87983.134390          20.0   \n",
       "1        2  51537.479640             63655.109150          17.0   \n",
       "2        3   3298.248451              4776.336091           2.0   \n",
       "3        4  14402.605700             13925.390670           5.0   \n",
       "4        5   8635.683507             10143.513660           3.0   \n",
       "\n",
       "   has_previous_defaults_other_lenders  num_remittances_prev_12_mth  \\\n",
       "0                                    0                           22   \n",
       "1                                    0                           20   \n",
       "2                                    0                           26   \n",
       "3                                    0                           18   \n",
       "4                                    0                           21   \n",
       "\n",
       "   remittance_amt_prev_12_mth  opened_campaign_1  opened_campaign_2  \\\n",
       "0                23377.338230                  0                  0   \n",
       "1                 8353.525522                  0                  0   \n",
       "2                 1213.782465                  0                  0   \n",
       "3                 6202.880445                  0                  0   \n",
       "4                 6175.393029                  0                  0   \n",
       "\n",
       "   opened_campaign_3  opened_campaign_4  tenure_years  churned  \\\n",
       "0                  0                  0      2.065258        0   \n",
       "1                  0                  0      2.761676        0   \n",
       "2                  0                  0      0.297064        1   \n",
       "3                  0                  0      2.623058        0   \n",
       "4                  0                  0      0.160443        0   \n",
       "\n",
       "   main_remittance_corridor_AE_IN  main_remittance_corridor_AE_PH  \\\n",
       "0                               1                               0   \n",
       "1                               0                               0   \n",
       "2                               0                               0   \n",
       "3                               1                               0   \n",
       "4                               0                               0   \n",
       "\n",
       "   main_remittance_corridor_AE_PK  \n",
       "0                               0  \n",
       "1                               1  \n",
       "2                               1  \n",
       "3                               0  \n",
       "4                               1  "
      ]
     },
     "execution_count": 25,
     "metadata": {},
     "output_type": "execute_result"
    }
   ],
   "source": [
    "hot_encoded.head()"
   ]
  },
  {
   "cell_type": "markdown",
   "id": "069b434a",
   "metadata": {},
   "source": [
    "More Exploration"
   ]
  },
  {
   "cell_type": "code",
   "execution_count": 26,
   "id": "42520892",
   "metadata": {},
   "outputs": [
    {
     "data": {
      "text/html": [
       "<div>\n",
       "<style scoped>\n",
       "    .dataframe tbody tr th:only-of-type {\n",
       "        vertical-align: middle;\n",
       "    }\n",
       "\n",
       "    .dataframe tbody tr th {\n",
       "        vertical-align: top;\n",
       "    }\n",
       "\n",
       "    .dataframe thead th {\n",
       "        text-align: right;\n",
       "    }\n",
       "</style>\n",
       "<table border=\"1\" class=\"dataframe\">\n",
       "  <thead>\n",
       "    <tr style=\"text-align: right;\">\n",
       "      <th></th>\n",
       "      <th>cust_id</th>\n",
       "      <th>income</th>\n",
       "      <th>debt_with_other_lenders</th>\n",
       "      <th>credit_score</th>\n",
       "      <th>has_previous_defaults_other_lenders</th>\n",
       "      <th>num_remittances_prev_12_mth</th>\n",
       "      <th>remittance_amt_prev_12_mth</th>\n",
       "      <th>opened_campaign_1</th>\n",
       "      <th>opened_campaign_2</th>\n",
       "      <th>opened_campaign_3</th>\n",
       "      <th>opened_campaign_4</th>\n",
       "      <th>tenure_years</th>\n",
       "      <th>churned</th>\n",
       "      <th>main_remittance_corridor_AE_IN</th>\n",
       "      <th>main_remittance_corridor_AE_PH</th>\n",
       "      <th>main_remittance_corridor_AE_PK</th>\n",
       "    </tr>\n",
       "  </thead>\n",
       "  <tbody>\n",
       "    <tr>\n",
       "      <th>count</th>\n",
       "      <td>6638.000000</td>\n",
       "      <td>6638.000000</td>\n",
       "      <td>6638.000000</td>\n",
       "      <td>6638.000000</td>\n",
       "      <td>6638.000000</td>\n",
       "      <td>6638.000000</td>\n",
       "      <td>6638.000000</td>\n",
       "      <td>6638.000000</td>\n",
       "      <td>6638.000000</td>\n",
       "      <td>6638.000000</td>\n",
       "      <td>6638.000000</td>\n",
       "      <td>6638.000000</td>\n",
       "      <td>6638.000000</td>\n",
       "      <td>6638.000000</td>\n",
       "      <td>6638.000000</td>\n",
       "      <td>6638.000000</td>\n",
       "    </tr>\n",
       "    <tr>\n",
       "      <th>mean</th>\n",
       "      <td>3717.925279</td>\n",
       "      <td>24077.287863</td>\n",
       "      <td>31987.129237</td>\n",
       "      <td>8.015065</td>\n",
       "      <td>0.201115</td>\n",
       "      <td>34.302049</td>\n",
       "      <td>10769.823404</td>\n",
       "      <td>0.041277</td>\n",
       "      <td>0.021995</td>\n",
       "      <td>0.013106</td>\n",
       "      <td>0.111178</td>\n",
       "      <td>1.496376</td>\n",
       "      <td>0.072462</td>\n",
       "      <td>0.510997</td>\n",
       "      <td>0.143869</td>\n",
       "      <td>0.345134</td>\n",
       "    </tr>\n",
       "    <tr>\n",
       "      <th>std</th>\n",
       "      <td>2144.916168</td>\n",
       "      <td>18905.538858</td>\n",
       "      <td>36988.660096</td>\n",
       "      <td>5.020562</td>\n",
       "      <td>0.400864</td>\n",
       "      <td>57.685320</td>\n",
       "      <td>9850.897280</td>\n",
       "      <td>0.198946</td>\n",
       "      <td>0.146677</td>\n",
       "      <td>0.113739</td>\n",
       "      <td>0.314376</td>\n",
       "      <td>0.871284</td>\n",
       "      <td>0.259270</td>\n",
       "      <td>0.499917</td>\n",
       "      <td>0.350983</td>\n",
       "      <td>0.475448</td>\n",
       "    </tr>\n",
       "    <tr>\n",
       "      <th>min</th>\n",
       "      <td>1.000000</td>\n",
       "      <td>1434.354208</td>\n",
       "      <td>653.062575</td>\n",
       "      <td>1.000000</td>\n",
       "      <td>0.000000</td>\n",
       "      <td>7.000000</td>\n",
       "      <td>455.821035</td>\n",
       "      <td>0.000000</td>\n",
       "      <td>0.000000</td>\n",
       "      <td>0.000000</td>\n",
       "      <td>0.000000</td>\n",
       "      <td>0.000322</td>\n",
       "      <td>0.000000</td>\n",
       "      <td>0.000000</td>\n",
       "      <td>0.000000</td>\n",
       "      <td>0.000000</td>\n",
       "    </tr>\n",
       "    <tr>\n",
       "      <th>25%</th>\n",
       "      <td>1865.250000</td>\n",
       "      <td>11657.025275</td>\n",
       "      <td>11083.185205</td>\n",
       "      <td>4.000000</td>\n",
       "      <td>0.000000</td>\n",
       "      <td>20.000000</td>\n",
       "      <td>4580.143122</td>\n",
       "      <td>0.000000</td>\n",
       "      <td>0.000000</td>\n",
       "      <td>0.000000</td>\n",
       "      <td>0.000000</td>\n",
       "      <td>0.738610</td>\n",
       "      <td>0.000000</td>\n",
       "      <td>0.000000</td>\n",
       "      <td>0.000000</td>\n",
       "      <td>0.000000</td>\n",
       "    </tr>\n",
       "    <tr>\n",
       "      <th>50%</th>\n",
       "      <td>3710.500000</td>\n",
       "      <td>19010.887035</td>\n",
       "      <td>20660.959015</td>\n",
       "      <td>7.000000</td>\n",
       "      <td>0.000000</td>\n",
       "      <td>23.000000</td>\n",
       "      <td>8068.427593</td>\n",
       "      <td>0.000000</td>\n",
       "      <td>0.000000</td>\n",
       "      <td>0.000000</td>\n",
       "      <td>0.000000</td>\n",
       "      <td>1.495018</td>\n",
       "      <td>0.000000</td>\n",
       "      <td>1.000000</td>\n",
       "      <td>0.000000</td>\n",
       "      <td>0.000000</td>\n",
       "    </tr>\n",
       "    <tr>\n",
       "      <th>75%</th>\n",
       "      <td>5575.750000</td>\n",
       "      <td>30246.748850</td>\n",
       "      <td>39374.946608</td>\n",
       "      <td>10.000000</td>\n",
       "      <td>0.000000</td>\n",
       "      <td>27.000000</td>\n",
       "      <td>13718.816140</td>\n",
       "      <td>0.000000</td>\n",
       "      <td>0.000000</td>\n",
       "      <td>0.000000</td>\n",
       "      <td>0.000000</td>\n",
       "      <td>2.252410</td>\n",
       "      <td>0.000000</td>\n",
       "      <td>1.000000</td>\n",
       "      <td>0.000000</td>\n",
       "      <td>1.000000</td>\n",
       "    </tr>\n",
       "    <tr>\n",
       "      <th>max</th>\n",
       "      <td>7432.000000</td>\n",
       "      <td>244970.926100</td>\n",
       "      <td>715752.663000</td>\n",
       "      <td>20.000000</td>\n",
       "      <td>1.000000</td>\n",
       "      <td>350.000000</td>\n",
       "      <td>137563.019000</td>\n",
       "      <td>1.000000</td>\n",
       "      <td>1.000000</td>\n",
       "      <td>1.000000</td>\n",
       "      <td>1.000000</td>\n",
       "      <td>2.999704</td>\n",
       "      <td>1.000000</td>\n",
       "      <td>1.000000</td>\n",
       "      <td>1.000000</td>\n",
       "      <td>1.000000</td>\n",
       "    </tr>\n",
       "  </tbody>\n",
       "</table>\n",
       "</div>"
      ],
      "text/plain": [
       "           cust_id         income  debt_with_other_lenders  credit_score  \\\n",
       "count  6638.000000    6638.000000              6638.000000   6638.000000   \n",
       "mean   3717.925279   24077.287863             31987.129237      8.015065   \n",
       "std    2144.916168   18905.538858             36988.660096      5.020562   \n",
       "min       1.000000    1434.354208               653.062575      1.000000   \n",
       "25%    1865.250000   11657.025275             11083.185205      4.000000   \n",
       "50%    3710.500000   19010.887035             20660.959015      7.000000   \n",
       "75%    5575.750000   30246.748850             39374.946608     10.000000   \n",
       "max    7432.000000  244970.926100            715752.663000     20.000000   \n",
       "\n",
       "       has_previous_defaults_other_lenders  num_remittances_prev_12_mth  \\\n",
       "count                          6638.000000                  6638.000000   \n",
       "mean                              0.201115                    34.302049   \n",
       "std                               0.400864                    57.685320   \n",
       "min                               0.000000                     7.000000   \n",
       "25%                               0.000000                    20.000000   \n",
       "50%                               0.000000                    23.000000   \n",
       "75%                               0.000000                    27.000000   \n",
       "max                               1.000000                   350.000000   \n",
       "\n",
       "       remittance_amt_prev_12_mth  opened_campaign_1  opened_campaign_2  \\\n",
       "count                 6638.000000        6638.000000        6638.000000   \n",
       "mean                 10769.823404           0.041277           0.021995   \n",
       "std                   9850.897280           0.198946           0.146677   \n",
       "min                    455.821035           0.000000           0.000000   \n",
       "25%                   4580.143122           0.000000           0.000000   \n",
       "50%                   8068.427593           0.000000           0.000000   \n",
       "75%                  13718.816140           0.000000           0.000000   \n",
       "max                 137563.019000           1.000000           1.000000   \n",
       "\n",
       "       opened_campaign_3  opened_campaign_4  tenure_years      churned  \\\n",
       "count        6638.000000        6638.000000   6638.000000  6638.000000   \n",
       "mean            0.013106           0.111178      1.496376     0.072462   \n",
       "std             0.113739           0.314376      0.871284     0.259270   \n",
       "min             0.000000           0.000000      0.000322     0.000000   \n",
       "25%             0.000000           0.000000      0.738610     0.000000   \n",
       "50%             0.000000           0.000000      1.495018     0.000000   \n",
       "75%             0.000000           0.000000      2.252410     0.000000   \n",
       "max             1.000000           1.000000      2.999704     1.000000   \n",
       "\n",
       "       main_remittance_corridor_AE_IN  main_remittance_corridor_AE_PH  \\\n",
       "count                     6638.000000                     6638.000000   \n",
       "mean                         0.510997                        0.143869   \n",
       "std                          0.499917                        0.350983   \n",
       "min                          0.000000                        0.000000   \n",
       "25%                          0.000000                        0.000000   \n",
       "50%                          1.000000                        0.000000   \n",
       "75%                          1.000000                        0.000000   \n",
       "max                          1.000000                        1.000000   \n",
       "\n",
       "       main_remittance_corridor_AE_PK  \n",
       "count                     6638.000000  \n",
       "mean                         0.345134  \n",
       "std                          0.475448  \n",
       "min                          0.000000  \n",
       "25%                          0.000000  \n",
       "50%                          0.000000  \n",
       "75%                          1.000000  \n",
       "max                          1.000000  "
      ]
     },
     "execution_count": 26,
     "metadata": {},
     "output_type": "execute_result"
    }
   ],
   "source": [
    "# Lets Describe our dataset\n",
    "hot_encoded.describe()"
   ]
  },
  {
   "cell_type": "markdown",
   "id": "94613ece",
   "metadata": {},
   "source": [
    "# Data Visualization"
   ]
  },
  {
   "cell_type": "markdown",
   "id": "4c0b1a8f",
   "metadata": {},
   "source": [
    "Lets visualise all our columns"
   ]
  },
  {
   "cell_type": "code",
   "execution_count": 27,
   "id": "1bd078cf",
   "metadata": {},
   "outputs": [
    {
     "data": {
      "image/png": "[encoded data removed]",
      "text/plain": [
       "<Figure size 1440x1440 with 16 Axes>"
      ]
     },
     "metadata": {
      "needs_background": "light"
     },
     "output_type": "display_data"
    }
   ],
   "source": [
    "hot_encoded.hist(figsize=(20,20))\n",
    "plt.show()"
   ]
  },
  {
   "cell_type": "markdown",
   "id": "ea2a1ff8",
   "metadata": {},
   "source": [
    "Lets see relationship between the churned customer as to against the un_churned ones"
   ]
  },
  {
   "cell_type": "code",
   "execution_count": 28,
   "id": "3a4f3cb0",
   "metadata": {},
   "outputs": [
    {
     "name": "stderr",
     "output_type": "stream",
     "text": [
      "C:\\Users\\FrankEnedu\\anaconda3\\lib\\site-packages\\seaborn\\_decorators.py:36: FutureWarning: Pass the following variable as a keyword arg: x. From version 0.12, the only valid positional argument will be `data`, and passing other arguments without an explicit keyword will result in an error or misinterpretation.\n",
      "  warnings.warn(\n"
     ]
    },
    {
     "data": {
      "image/png": "[encoded data removed]",
      "text/plain": [
       "<Figure size 432x288 with 1 Axes>"
      ]
     },
     "metadata": {
      "needs_background": "light"
     },
     "output_type": "display_data"
    }
   ],
   "source": [
    "sns.countplot(df_no_na[\"churned\"])\n",
    "plt.show()"
   ]
  },
  {
   "cell_type": "code",
   "execution_count": 29,
   "id": "b0373529",
   "metadata": {},
   "outputs": [
    {
     "name": "stderr",
     "output_type": "stream",
     "text": [
      "C:\\Users\\FrankEnedu\\anaconda3\\lib\\site-packages\\seaborn\\_decorators.py:36: FutureWarning: Pass the following variable as a keyword arg: x. From version 0.12, the only valid positional argument will be `data`, and passing other arguments without an explicit keyword will result in an error or misinterpretation.\n",
      "  warnings.warn(\n"
     ]
    },
    {
     "data": {
      "image/png": "[encoded data removed]",
      "text/plain": [
       "<Figure size 432x288 with 1 Axes>"
      ]
     },
     "metadata": {
      "needs_background": "light"
     },
     "output_type": "display_data"
    }
   ],
   "source": [
    "# using seaborns countplot to show distribution\n",
    "fig, ax = plt.subplots()\n",
    "g = sns.countplot(df_no_na.churned, palette='viridis')\n",
    "g.set_xticklabels(['Churned', 'Not Churned'])\n",
    "g.set_yticklabels([])\n",
    "\n",
    "# function to show values on bars\n",
    "def show_values_on_bars(axs):\n",
    "    def _show_on_single_plot(ax):        \n",
    "        for p in ax.patches:\n",
    "            _x = p.get_x() + p.get_width() / 2\n",
    "            _y = p.get_y() + p.get_height()\n",
    "            value = '{:.0f}'.format(p.get_height())\n",
    "            ax.text(_x, _y, value, ha=\"center\") \n",
    "\n",
    "    if isinstance(axs, np.ndarray):\n",
    "        for idx, ax in np.ndenumerate(axs):\n",
    "            _show_on_single_plot(ax)\n",
    "    else:\n",
    "        _show_on_single_plot(axs)\n",
    "show_values_on_bars(ax)\n",
    "\n",
    "sns.despine(left=True, bottom=True)\n",
    "plt.xlabel('')\n",
    "plt.ylabel('')\n",
    "plt.title('Distribution of Churned Data', fontsize=30)\n",
    "plt.tick_params(axis='x', which='major', labelsize=15)\n",
    "plt.show()"
   ]
  },
  {
   "cell_type": "markdown",
   "id": "7d467a18",
   "metadata": {},
   "source": [
    "Lets also see the percentage distribution"
   ]
  },
  {
   "cell_type": "code",
   "execution_count": 30,
   "id": "fefa3e39",
   "metadata": {},
   "outputs": [
    {
     "name": "stdout",
     "output_type": "stream",
     "text": [
      "Percentage of Customer Churned is 7.2% and non-promoted employees is: 92.8%\n"
     ]
    }
   ],
   "source": [
    "print(\"Percentage of Customer Churned is {:.1f}% and non-promoted employees is: {:.1f}%\".format(\n",
    "    df_no_na[df_no_na['churned'] == 1].shape[0] / df_no_na.shape[0]*100,\n",
    "    df_no_na[df_no_na['churned'] == 0].shape[0] / df_no_na.shape[0]*100))"
   ]
  },
  {
   "cell_type": "markdown",
   "id": "2f14263a",
   "metadata": {},
   "source": [
    "Lets also look at the correlations visual of the columns"
   ]
  },
  {
   "cell_type": "code",
   "execution_count": 31,
   "id": "267010a9",
   "metadata": {},
   "outputs": [],
   "source": [
    "# Calculate correlations\n",
    "corr = df_no_na.corr()\n",
    "mask = np.zeros_like(corr)\n",
    "mask[np.triu_indices_from(mask)] = True"
   ]
  },
  {
   "cell_type": "code",
   "execution_count": 32,
   "id": "87268fb6",
   "metadata": {},
   "outputs": [
    {
     "data": {
      "text/plain": [
       "<AxesSubplot:>"
      ]
     },
     "execution_count": 32,
     "metadata": {},
     "output_type": "execute_result"
    },
    {
     "data": {
      "image/png": "[encoded data removed]",
      "text/plain": [
       "<Figure size 1080x720 with 2 Axes>"
      ]
     },
     "metadata": {
      "needs_background": "light"
     },
     "output_type": "display_data"
    }
   ],
   "source": [
    "# Heatmap\n",
    "plt.figure(figsize=(15, 10))\n",
    "sns.heatmap(corr,\n",
    "            vmax=.5,\n",
    "            mask=mask,\n",
    "             annot=True, fmt='.2f',\n",
    "            linewidths=.2, cmap=\"YlGnBu\")"
   ]
  },
  {
   "cell_type": "markdown",
   "id": "3ba0e571",
   "metadata": {},
   "source": [
    "From the result of the correlation heatmap, we see that churned is either negatively correlated or has very poor correlate=ion with all othe features.\n",
    "\n",
    "So when Income is increasing, its is less likely for customers to churn, when credit score or debt is high, their is less likelyhood for customer to churn "
   ]
  },
  {
   "cell_type": "code",
   "execution_count": 33,
   "id": "fd5028a2",
   "metadata": {},
   "outputs": [
    {
     "name": "stdout",
     "output_type": "stream",
     "text": [
      "Most Positive Correlations: \n",
      " opened_campaign_2                      0.013552\n",
      "opened_campaign_4                      0.041635\n",
      "opened_campaign_1                      0.044241\n",
      "has_previous_defaults_other_lenders    0.045323\n",
      "churned                                1.000000\n",
      "Name: churned, dtype: float64\n",
      "\n",
      "Most Negative Correlations: \n",
      " tenure_years                 -0.359714\n",
      "credit_score                 -0.205139\n",
      "income                       -0.203039\n",
      "remittance_amt_prev_12_mth   -0.181006\n",
      "debt_with_other_lenders      -0.093960\n",
      "Name: churned, dtype: float64\n"
     ]
    }
   ],
   "source": [
    "correlations = df_no_na.corr()['churned'].sort_values()\n",
    "print('Most Positive Correlations: \\n', correlations.tail(5))\n",
    "print('\\nMost Negative Correlations: \\n', correlations.head(5))"
   ]
  },
  {
   "cell_type": "markdown",
   "id": "b509b91a",
   "metadata": {},
   "source": [
    "# Data Modelling"
   ]
  },
  {
   "cell_type": "markdown",
   "id": "3c7978a0",
   "metadata": {},
   "source": [
    "Declearing Dependent and Independent Variable"
   ]
  },
  {
   "cell_type": "code",
   "execution_count": 34,
   "id": "7204770e",
   "metadata": {},
   "outputs": [],
   "source": [
    "X = hot_encoded.drop([\"churned\", 'cust_id'], axis = 1)"
   ]
  },
  {
   "cell_type": "code",
   "execution_count": 35,
   "id": "434dc5e2",
   "metadata": {},
   "outputs": [
    {
     "data": {
      "text/html": [
       "<div>\n",
       "<style scoped>\n",
       "    .dataframe tbody tr th:only-of-type {\n",
       "        vertical-align: middle;\n",
       "    }\n",
       "\n",
       "    .dataframe tbody tr th {\n",
       "        vertical-align: top;\n",
       "    }\n",
       "\n",
       "    .dataframe thead th {\n",
       "        text-align: right;\n",
       "    }\n",
       "</style>\n",
       "<table border=\"1\" class=\"dataframe\">\n",
       "  <thead>\n",
       "    <tr style=\"text-align: right;\">\n",
       "      <th></th>\n",
       "      <th>income</th>\n",
       "      <th>debt_with_other_lenders</th>\n",
       "      <th>credit_score</th>\n",
       "      <th>has_previous_defaults_other_lenders</th>\n",
       "      <th>num_remittances_prev_12_mth</th>\n",
       "      <th>remittance_amt_prev_12_mth</th>\n",
       "      <th>opened_campaign_1</th>\n",
       "      <th>opened_campaign_2</th>\n",
       "      <th>opened_campaign_3</th>\n",
       "      <th>opened_campaign_4</th>\n",
       "      <th>tenure_years</th>\n",
       "      <th>main_remittance_corridor_AE_IN</th>\n",
       "      <th>main_remittance_corridor_AE_PH</th>\n",
       "      <th>main_remittance_corridor_AE_PK</th>\n",
       "    </tr>\n",
       "  </thead>\n",
       "  <tbody>\n",
       "    <tr>\n",
       "      <th>0</th>\n",
       "      <td>63863.135880</td>\n",
       "      <td>87983.134390</td>\n",
       "      <td>20.0</td>\n",
       "      <td>0</td>\n",
       "      <td>22</td>\n",
       "      <td>23377.338230</td>\n",
       "      <td>0</td>\n",
       "      <td>0</td>\n",
       "      <td>0</td>\n",
       "      <td>0</td>\n",
       "      <td>2.065258</td>\n",
       "      <td>1</td>\n",
       "      <td>0</td>\n",
       "      <td>0</td>\n",
       "    </tr>\n",
       "    <tr>\n",
       "      <th>1</th>\n",
       "      <td>51537.479640</td>\n",
       "      <td>63655.109150</td>\n",
       "      <td>17.0</td>\n",
       "      <td>0</td>\n",
       "      <td>20</td>\n",
       "      <td>8353.525522</td>\n",
       "      <td>0</td>\n",
       "      <td>0</td>\n",
       "      <td>0</td>\n",
       "      <td>0</td>\n",
       "      <td>2.761676</td>\n",
       "      <td>0</td>\n",
       "      <td>0</td>\n",
       "      <td>1</td>\n",
       "    </tr>\n",
       "    <tr>\n",
       "      <th>2</th>\n",
       "      <td>3298.248451</td>\n",
       "      <td>4776.336091</td>\n",
       "      <td>2.0</td>\n",
       "      <td>0</td>\n",
       "      <td>26</td>\n",
       "      <td>1213.782465</td>\n",
       "      <td>0</td>\n",
       "      <td>0</td>\n",
       "      <td>0</td>\n",
       "      <td>0</td>\n",
       "      <td>0.297064</td>\n",
       "      <td>0</td>\n",
       "      <td>0</td>\n",
       "      <td>1</td>\n",
       "    </tr>\n",
       "    <tr>\n",
       "      <th>3</th>\n",
       "      <td>14402.605700</td>\n",
       "      <td>13925.390670</td>\n",
       "      <td>5.0</td>\n",
       "      <td>0</td>\n",
       "      <td>18</td>\n",
       "      <td>6202.880445</td>\n",
       "      <td>0</td>\n",
       "      <td>0</td>\n",
       "      <td>0</td>\n",
       "      <td>0</td>\n",
       "      <td>2.623058</td>\n",
       "      <td>1</td>\n",
       "      <td>0</td>\n",
       "      <td>0</td>\n",
       "    </tr>\n",
       "    <tr>\n",
       "      <th>4</th>\n",
       "      <td>8635.683507</td>\n",
       "      <td>10143.513660</td>\n",
       "      <td>3.0</td>\n",
       "      <td>0</td>\n",
       "      <td>21</td>\n",
       "      <td>6175.393029</td>\n",
       "      <td>0</td>\n",
       "      <td>0</td>\n",
       "      <td>0</td>\n",
       "      <td>0</td>\n",
       "      <td>0.160443</td>\n",
       "      <td>0</td>\n",
       "      <td>0</td>\n",
       "      <td>1</td>\n",
       "    </tr>\n",
       "  </tbody>\n",
       "</table>\n",
       "</div>"
      ],
      "text/plain": [
       "         income  debt_with_other_lenders  credit_score  \\\n",
       "0  63863.135880             87983.134390          20.0   \n",
       "1  51537.479640             63655.109150          17.0   \n",
       "2   3298.248451              4776.336091           2.0   \n",
       "3  14402.605700             13925.390670           5.0   \n",
       "4   8635.683507             10143.513660           3.0   \n",
       "\n",
       "   has_previous_defaults_other_lenders  num_remittances_prev_12_mth  \\\n",
       "0                                    0                           22   \n",
       "1                                    0                           20   \n",
       "2                                    0                           26   \n",
       "3                                    0                           18   \n",
       "4                                    0                           21   \n",
       "\n",
       "   remittance_amt_prev_12_mth  opened_campaign_1  opened_campaign_2  \\\n",
       "0                23377.338230                  0                  0   \n",
       "1                 8353.525522                  0                  0   \n",
       "2                 1213.782465                  0                  0   \n",
       "3                 6202.880445                  0                  0   \n",
       "4                 6175.393029                  0                  0   \n",
       "\n",
       "   opened_campaign_3  opened_campaign_4  tenure_years  \\\n",
       "0                  0                  0      2.065258   \n",
       "1                  0                  0      2.761676   \n",
       "2                  0                  0      0.297064   \n",
       "3                  0                  0      2.623058   \n",
       "4                  0                  0      0.160443   \n",
       "\n",
       "   main_remittance_corridor_AE_IN  main_remittance_corridor_AE_PH  \\\n",
       "0                               1                               0   \n",
       "1                               0                               0   \n",
       "2                               0                               0   \n",
       "3                               1                               0   \n",
       "4                               0                               0   \n",
       "\n",
       "   main_remittance_corridor_AE_PK  \n",
       "0                               0  \n",
       "1                               1  \n",
       "2                               1  \n",
       "3                               0  \n",
       "4                               1  "
      ]
     },
     "execution_count": 35,
     "metadata": {},
     "output_type": "execute_result"
    }
   ],
   "source": [
    "X.head()"
   ]
  },
  {
   "cell_type": "code",
   "execution_count": 36,
   "id": "e7bed19f",
   "metadata": {},
   "outputs": [],
   "source": [
    "y = hot_encoded[\"churned\"]"
   ]
  },
  {
   "cell_type": "code",
   "execution_count": 37,
   "id": "303d578d",
   "metadata": {},
   "outputs": [
    {
     "data": {
      "text/plain": [
       "0    0\n",
       "1    0\n",
       "2    1\n",
       "3    0\n",
       "4    0\n",
       "Name: churned, dtype: int64"
      ]
     },
     "execution_count": 37,
     "metadata": {},
     "output_type": "execute_result"
    }
   ],
   "source": [
    "y.head()"
   ]
  },
  {
   "cell_type": "code",
   "execution_count": 38,
   "id": "f7fd3fdf",
   "metadata": {},
   "outputs": [],
   "source": [
    "# plt.scatter(X,y)\n",
    "# plt.xlabel(\"Indepedent\")\n",
    "# plt.xlabel(\"Dependent\")\n",
    "# plt.show()"
   ]
  },
  {
   "cell_type": "markdown",
   "id": "defd519d",
   "metadata": {},
   "source": [
    "Spliting Test and Train dataset"
   ]
  },
  {
   "cell_type": "code",
   "execution_count": 39,
   "id": "85719206",
   "metadata": {},
   "outputs": [],
   "source": [
    "X_train, X_test, y_train, y_test = train_test_split(X,y, test_size=0.2)"
   ]
  },
  {
   "cell_type": "code",
   "execution_count": 40,
   "id": "caabda09",
   "metadata": {},
   "outputs": [
    {
     "data": {
      "text/plain": [
       "(1328, 14)"
      ]
     },
     "execution_count": 40,
     "metadata": {},
     "output_type": "execute_result"
    }
   ],
   "source": [
    "X_test.shape"
   ]
  },
  {
   "cell_type": "code",
   "execution_count": 41,
   "id": "40bdf1da",
   "metadata": {},
   "outputs": [
    {
     "data": {
      "text/plain": [
       "((5310,), (1328,))"
      ]
     },
     "execution_count": 41,
     "metadata": {},
     "output_type": "execute_result"
    }
   ],
   "source": [
    "y_train.shape, y_test.shape"
   ]
  },
  {
   "cell_type": "markdown",
   "id": "e76150ed",
   "metadata": {},
   "source": [
    "# Building Data Models (Random Forest)"
   ]
  },
  {
   "cell_type": "markdown",
   "id": "972c83c2",
   "metadata": {},
   "source": [
    "Using Random Forest"
   ]
  },
  {
   "cell_type": "code",
   "execution_count": 42,
   "id": "4152bf00",
   "metadata": {},
   "outputs": [],
   "source": [
    "rf = RandomForestClassifier()"
   ]
  },
  {
   "cell_type": "code",
   "execution_count": 43,
   "id": "a932937e",
   "metadata": {},
   "outputs": [],
   "source": [
    "model1 = rf.fit(X_train,y_train)"
   ]
  },
  {
   "cell_type": "code",
   "execution_count": 44,
   "id": "daf8eabe",
   "metadata": {},
   "outputs": [],
   "source": [
    "pred = model1.predict(X_test)"
   ]
  },
  {
   "cell_type": "code",
   "execution_count": 45,
   "id": "54e83751",
   "metadata": {},
   "outputs": [],
   "source": [
    "rf_results = pd.DataFrame({'Actual value': y_test, \"Predicted value\": pred})"
   ]
  },
  {
   "cell_type": "code",
   "execution_count": 46,
   "id": "c1f0e6cc",
   "metadata": {},
   "outputs": [
    {
     "data": {
      "text/html": [
       "<div>\n",
       "<style scoped>\n",
       "    .dataframe tbody tr th:only-of-type {\n",
       "        vertical-align: middle;\n",
       "    }\n",
       "\n",
       "    .dataframe tbody tr th {\n",
       "        vertical-align: top;\n",
       "    }\n",
       "\n",
       "    .dataframe thead th {\n",
       "        text-align: right;\n",
       "    }\n",
       "</style>\n",
       "<table border=\"1\" class=\"dataframe\">\n",
       "  <thead>\n",
       "    <tr style=\"text-align: right;\">\n",
       "      <th></th>\n",
       "      <th>Actual value</th>\n",
       "      <th>Predicted value</th>\n",
       "    </tr>\n",
       "  </thead>\n",
       "  <tbody>\n",
       "    <tr>\n",
       "      <th>3192</th>\n",
       "      <td>0</td>\n",
       "      <td>0</td>\n",
       "    </tr>\n",
       "    <tr>\n",
       "      <th>1629</th>\n",
       "      <td>0</td>\n",
       "      <td>0</td>\n",
       "    </tr>\n",
       "    <tr>\n",
       "      <th>5312</th>\n",
       "      <td>0</td>\n",
       "      <td>0</td>\n",
       "    </tr>\n",
       "    <tr>\n",
       "      <th>768</th>\n",
       "      <td>0</td>\n",
       "      <td>0</td>\n",
       "    </tr>\n",
       "    <tr>\n",
       "      <th>7114</th>\n",
       "      <td>0</td>\n",
       "      <td>0</td>\n",
       "    </tr>\n",
       "  </tbody>\n",
       "</table>\n",
       "</div>"
      ],
      "text/plain": [
       "      Actual value  Predicted value\n",
       "3192             0                0\n",
       "1629             0                0\n",
       "5312             0                0\n",
       "768              0                0\n",
       "7114             0                0"
      ]
     },
     "execution_count": 46,
     "metadata": {},
     "output_type": "execute_result"
    }
   ],
   "source": [
    "rf_results.head()"
   ]
  },
  {
   "cell_type": "markdown",
   "id": "c5855693",
   "metadata": {},
   "source": [
    "The table above shows how good our model was able to predit the actual value, les now evaluate our model"
   ]
  },
  {
   "cell_type": "code",
   "execution_count": 47,
   "id": "95b2f42d",
   "metadata": {},
   "outputs": [
    {
     "data": {
      "text/plain": [
       "0.9819277108433735"
      ]
     },
     "execution_count": 47,
     "metadata": {},
     "output_type": "execute_result"
    }
   ],
   "source": [
    "accuracy_score(y_test, pred)"
   ]
  },
  {
   "cell_type": "markdown",
   "id": "e7954bc7",
   "metadata": {},
   "source": [
    "Our model has an acuracy of 97%, This simply means that if we make prediction 100 time, our model is likely to make the right prediction 97 time. this is pretty good. Now lets look at way to evaluate our model"
   ]
  },
  {
   "cell_type": "code",
   "execution_count": 48,
   "id": "63ad540f",
   "metadata": {},
   "outputs": [
    {
     "name": "stdout",
     "output_type": "stream",
     "text": [
      "              precision    recall  f1-score   support\n",
      "\n",
      "           0       0.98      1.00      0.99      1242\n",
      "           1       0.98      0.73      0.84        86\n",
      "\n",
      "    accuracy                           0.98      1328\n",
      "   macro avg       0.98      0.87      0.92      1328\n",
      "weighted avg       0.98      0.98      0.98      1328\n",
      "\n"
     ]
    }
   ],
   "source": [
    "print(classification_report(y_test,pred))"
   ]
  },
  {
   "cell_type": "markdown",
   "id": "5a9e005c",
   "metadata": {},
   "source": [
    "We can see that the model precision an 1 and two are also pretty good on 96% and 97% respectively"
   ]
  },
  {
   "cell_type": "markdown",
   "id": "7a31fd7f",
   "metadata": {},
   "source": [
    "Lets now see the distribution on how our model faired with prediction using the confussion matrix heatmap"
   ]
  },
  {
   "cell_type": "code",
   "execution_count": 49,
   "id": "50bdd6b3",
   "metadata": {},
   "outputs": [
    {
     "data": {
      "text/plain": [
       "array([[1241,    1],\n",
       "       [  23,   63]], dtype=int64)"
      ]
     },
     "execution_count": 49,
     "metadata": {},
     "output_type": "execute_result"
    }
   ],
   "source": [
    "cm_rf = confusion_matrix(y_test,pred)\n",
    "cm_rf"
   ]
  },
  {
   "cell_type": "code",
   "execution_count": 92,
   "id": "a3b64163",
   "metadata": {},
   "outputs": [
    {
     "data": {
      "text/plain": [
       "Text(69.0, 0.5, 'Truth')"
      ]
     },
     "execution_count": 92,
     "metadata": {},
     "output_type": "execute_result"
    },
    {
     "data": {
      "image/png": "[encoded data removed]",
      "text/plain": [
       "<Figure size 720x504 with 2 Axes>"
      ]
     },
     "metadata": {
      "needs_background": "light"
     },
     "output_type": "display_data"
    }
   ],
   "source": [
    "plt.figure(figsize = (10,7))\n",
    "sn.heatmap(cm_rf, annot=True)\n",
    "plt.xlabel('Predicted')\n",
    "plt.ylabel('Truth')"
   ]
  },
  {
   "cell_type": "markdown",
   "id": "ef1351f0",
   "metadata": {},
   "source": [
    "# Building Data Models ( XGBoost)"
   ]
  },
  {
   "cell_type": "code",
   "execution_count": 91,
   "id": "f419c9c5",
   "metadata": {},
   "outputs": [
    {
     "name": "stdout",
     "output_type": "stream",
     "text": [
      "[0.17186492 0.07741483 0.10451768 0.0108503  0.05930618 0.12228201\n",
      " 0.01144497 0.00667032 0.00327412 0.01871172 0.36661903 0.02926592\n",
      " 0.00733804 0.01043995]\n"
     ]
    },
    {
     "ename": "AttributeError",
     "evalue": "'LogisticRegression' object has no attribute 'feature_importances_'",
     "output_type": "error",
     "traceback": [
      "\u001b[1;31m---------------------------------------------------------------------------\u001b[0m",
      "\u001b[1;31mAttributeError\u001b[0m                            Traceback (most recent call last)",
      "\u001b[1;32m<ipython-input-91-1cb4383cb747>\u001b[0m in \u001b[0;36m<module>\u001b[1;34m\u001b[0m\n\u001b[0;32m      2\u001b[0m \u001b[0mmodel2\u001b[0m\u001b[1;33m.\u001b[0m\u001b[0mfit\u001b[0m\u001b[1;33m(\u001b[0m\u001b[0mX\u001b[0m\u001b[1;33m,\u001b[0m\u001b[0my\u001b[0m\u001b[1;33m)\u001b[0m\u001b[1;33m\u001b[0m\u001b[1;33m\u001b[0m\u001b[0m\n\u001b[0;32m      3\u001b[0m \u001b[0mprint\u001b[0m\u001b[1;33m(\u001b[0m\u001b[0mmodel2\u001b[0m\u001b[1;33m.\u001b[0m\u001b[0mfeature_importances_\u001b[0m\u001b[1;33m)\u001b[0m\u001b[1;33m\u001b[0m\u001b[1;33m\u001b[0m\u001b[0m\n\u001b[1;32m----> 4\u001b[1;33m \u001b[0mfeat_importance\u001b[0m \u001b[1;33m=\u001b[0m \u001b[0mpd\u001b[0m\u001b[1;33m.\u001b[0m\u001b[0mSeries\u001b[0m\u001b[1;33m(\u001b[0m\u001b[0mmodel\u001b[0m\u001b[1;33m.\u001b[0m\u001b[0mfeature_importances_\u001b[0m\u001b[1;33m,\u001b[0m\u001b[0mindex\u001b[0m\u001b[1;33m=\u001b[0m\u001b[0mX\u001b[0m\u001b[1;33m.\u001b[0m\u001b[0mcolumns\u001b[0m\u001b[1;33m)\u001b[0m\u001b[1;33m\u001b[0m\u001b[1;33m\u001b[0m\u001b[0m\n\u001b[0m\u001b[0;32m      5\u001b[0m \u001b[0mfeat_importance\u001b[0m\u001b[1;33m.\u001b[0m\u001b[0mnlargest\u001b[0m\u001b[1;33m(\u001b[0m\u001b[1;36m10\u001b[0m\u001b[1;33m)\u001b[0m\u001b[1;33m.\u001b[0m\u001b[0mplot\u001b[0m\u001b[1;33m(\u001b[0m\u001b[0mkind\u001b[0m \u001b[1;33m=\u001b[0m \u001b[1;34m'barh'\u001b[0m\u001b[1;33m)\u001b[0m\u001b[1;33m\u001b[0m\u001b[1;33m\u001b[0m\u001b[0m\n\u001b[0;32m      6\u001b[0m \u001b[0mplt\u001b[0m\u001b[1;33m.\u001b[0m\u001b[0mshow\u001b[0m\u001b[1;33m(\u001b[0m\u001b[1;33m)\u001b[0m\u001b[1;33m\u001b[0m\u001b[1;33m\u001b[0m\u001b[0m\n",
      "\u001b[1;31mAttributeError\u001b[0m: 'LogisticRegression' object has no attribute 'feature_importances_'"
     ]
    }
   ],
   "source": [
    "model2 = ExtraTreesClassifier()\n",
    "model2.fit(X,y)\n",
    "print(model2.feature_importances_)\n",
    "feat_importance = pd.Series(model.feature_importances_,index=X.columns)\n",
    "feat_importance.nlargest(10).plot(kind = 'barh')\n",
    "plt.show()"
   ]
  },
  {
   "cell_type": "markdown",
   "id": "5183b0de",
   "metadata": {},
   "source": [
    "the above chat has ranked our various feature base on the correlation with our dependent variable"
   ]
  },
  {
   "cell_type": "code",
   "execution_count": 54,
   "id": "4ca81481",
   "metadata": {},
   "outputs": [
    {
     "name": "stderr",
     "output_type": "stream",
     "text": [
      "C:\\Users\\FrankEnedu\\anaconda3\\lib\\site-packages\\xgboost\\sklearn.py:1224: UserWarning: The use of label encoder in XGBClassifier is deprecated and will be removed in a future release. To remove this warning, do the following: 1) Pass option use_label_encoder=False when constructing XGBClassifier object; and 2) Encode your labels (y) as integers starting with 0, i.e. 0, 1, 2, ..., [num_class - 1].\n",
      "  warnings.warn(label_encoder_deprecation_msg, UserWarning)\n"
     ]
    },
    {
     "name": "stdout",
     "output_type": "stream",
     "text": [
      "[10:37:36] WARNING: C:/Users/Administrator/workspace/xgboost-win64_release_1.5.0/src/learner.cc:1115: Starting in XGBoost 1.3.0, the default evaluation metric used with the objective 'binary:logistic' was changed from 'error' to 'logloss'. Explicitly set eval_metric if you'd like to restore the old behavior.\n"
     ]
    },
    {
     "data": {
      "text/plain": [
       "XGBClassifier(base_score=0.8, booster='gbtree', colsample_bylevel=1,\n",
       "              colsample_bynode=1, colsample_bytree=1, enable_categorical=False,\n",
       "              gamma=0, gpu_id=-1, importance_type=None,\n",
       "              interaction_constraints='', learning_rate=0.1, max_delta_step=0,\n",
       "              max_depth=4, min_child_weight=4, missing=nan,\n",
       "              monotone_constraints='()', n_estimators=350, n_jobs=8,\n",
       "              num_parallel_tree=1, predictor='auto', random_state=0,\n",
       "              reg_alpha=0, reg_lambda=1, scale_pos_weight=1, subsample=1,\n",
       "              tree_method='exact', validate_parameters=1, verbosity=None)"
      ]
     },
     "execution_count": 54,
     "metadata": {},
     "output_type": "execute_result"
    }
   ],
   "source": [
    "classifier = XGBClassifier(base_score=0.8,n_estimators=350,max_depth=4,learning_rate=0.1,min_child_weight=4)\n",
    "classifier.fit(X_train, y_train)"
   ]
  },
  {
   "cell_type": "code",
   "execution_count": 55,
   "id": "7118243d",
   "metadata": {},
   "outputs": [],
   "source": [
    "xg_pred = classifier.predict(X_test)"
   ]
  },
  {
   "cell_type": "code",
   "execution_count": 56,
   "id": "fbf3c904",
   "metadata": {},
   "outputs": [],
   "source": [
    "xg_results = pd.DataFrame({'Actual value': y_test, \"Predicted value\": xg_pred})"
   ]
  },
  {
   "cell_type": "code",
   "execution_count": 57,
   "id": "00a7caaf",
   "metadata": {},
   "outputs": [
    {
     "data": {
      "text/plain": [
       "0.9894578313253012"
      ]
     },
     "execution_count": 57,
     "metadata": {},
     "output_type": "execute_result"
    }
   ],
   "source": [
    "accuracy_score(y_test, xg_pred)"
   ]
  },
  {
   "cell_type": "markdown",
   "id": "1c6b0cfc",
   "metadata": {},
   "source": [
    "Our model has an acuracy of approximately 98%, This simply means that if we make prediction 100 time, our model is likely to make the right prediction 98 time. this is pretty good. Now lets look at way to evaluate our model"
   ]
  },
  {
   "cell_type": "code",
   "execution_count": 58,
   "id": "0d718bc6",
   "metadata": {},
   "outputs": [
    {
     "data": {
      "text/html": [
       "<div>\n",
       "<style scoped>\n",
       "    .dataframe tbody tr th:only-of-type {\n",
       "        vertical-align: middle;\n",
       "    }\n",
       "\n",
       "    .dataframe tbody tr th {\n",
       "        vertical-align: top;\n",
       "    }\n",
       "\n",
       "    .dataframe thead th {\n",
       "        text-align: right;\n",
       "    }\n",
       "</style>\n",
       "<table border=\"1\" class=\"dataframe\">\n",
       "  <thead>\n",
       "    <tr style=\"text-align: right;\">\n",
       "      <th></th>\n",
       "      <th>Actual value</th>\n",
       "      <th>Predicted value</th>\n",
       "    </tr>\n",
       "  </thead>\n",
       "  <tbody>\n",
       "    <tr>\n",
       "      <th>3192</th>\n",
       "      <td>0</td>\n",
       "      <td>0</td>\n",
       "    </tr>\n",
       "    <tr>\n",
       "      <th>1629</th>\n",
       "      <td>0</td>\n",
       "      <td>0</td>\n",
       "    </tr>\n",
       "    <tr>\n",
       "      <th>5312</th>\n",
       "      <td>0</td>\n",
       "      <td>0</td>\n",
       "    </tr>\n",
       "    <tr>\n",
       "      <th>768</th>\n",
       "      <td>0</td>\n",
       "      <td>0</td>\n",
       "    </tr>\n",
       "    <tr>\n",
       "      <th>7114</th>\n",
       "      <td>0</td>\n",
       "      <td>0</td>\n",
       "    </tr>\n",
       "  </tbody>\n",
       "</table>\n",
       "</div>"
      ],
      "text/plain": [
       "      Actual value  Predicted value\n",
       "3192             0                0\n",
       "1629             0                0\n",
       "5312             0                0\n",
       "768              0                0\n",
       "7114             0                0"
      ]
     },
     "execution_count": 58,
     "metadata": {},
     "output_type": "execute_result"
    }
   ],
   "source": [
    "xg_results.head()"
   ]
  },
  {
   "cell_type": "markdown",
   "id": "c8726982",
   "metadata": {},
   "source": [
    "The table above shows how good our model was able to predit the actual value, les now evaluate our model"
   ]
  },
  {
   "cell_type": "code",
   "execution_count": 59,
   "id": "897bf5f1",
   "metadata": {},
   "outputs": [
    {
     "name": "stdout",
     "output_type": "stream",
     "text": [
      "              precision    recall  f1-score   support\n",
      "\n",
      "           0       0.99      1.00      0.99      1242\n",
      "           1       0.94      0.90      0.92        86\n",
      "\n",
      "    accuracy                           0.99      1328\n",
      "   macro avg       0.97      0.95      0.96      1328\n",
      "weighted avg       0.99      0.99      0.99      1328\n",
      "\n"
     ]
    }
   ],
   "source": [
    "print(classification_report(y_test,xg_pred))"
   ]
  },
  {
   "cell_type": "markdown",
   "id": "109d1129",
   "metadata": {},
   "source": [
    "We can see that the model precision an 0 and 1 are also pretty good on 98% and 92% respectively\n",
    "\n",
    "Lets now see the distribution on how our model faired with prediction using the confussion matrix heatmap"
   ]
  },
  {
   "cell_type": "code",
   "execution_count": 60,
   "id": "36fea0f3",
   "metadata": {},
   "outputs": [],
   "source": [
    "cm_xg = confusion_matrix(y_test, xg_pred)"
   ]
  },
  {
   "cell_type": "code",
   "execution_count": 61,
   "id": "e899c2c6",
   "metadata": {},
   "outputs": [
    {
     "data": {
      "text/plain": [
       "array([[1237,    5],\n",
       "       [   9,   77]], dtype=int64)"
      ]
     },
     "execution_count": 61,
     "metadata": {},
     "output_type": "execute_result"
    }
   ],
   "source": [
    "cm_xg"
   ]
  },
  {
   "cell_type": "code",
   "execution_count": 62,
   "id": "22c2d343",
   "metadata": {},
   "outputs": [
    {
     "data": {
      "text/plain": [
       "Text(69.0, 0.5, 'Truth')"
      ]
     },
     "execution_count": 62,
     "metadata": {},
     "output_type": "execute_result"
    },
    {
     "data": {
      "image/png": "[encoded data removed]",
      "text/plain": [
       "<Figure size 720x504 with 2 Axes>"
      ]
     },
     "metadata": {
      "needs_background": "light"
     },
     "output_type": "display_data"
    }
   ],
   "source": [
    "import seaborn as sn\n",
    "plt.figure(figsize = (10,7))\n",
    "sn.heatmap(cm_xg, annot=True)\n",
    "plt.xlabel('Predicted')\n",
    "plt.ylabel('Truth')"
   ]
  },
  {
   "cell_type": "markdown",
   "id": "a084f319",
   "metadata": {},
   "source": [
    "# Building Data Models (Logistics Regresion)"
   ]
  },
  {
   "cell_type": "code",
   "execution_count": 63,
   "id": "8d30354b",
   "metadata": {},
   "outputs": [],
   "source": [
    "model3 = LogisticRegression()"
   ]
  },
  {
   "cell_type": "code",
   "execution_count": 64,
   "id": "34aa3b8d",
   "metadata": {},
   "outputs": [
    {
     "name": "stderr",
     "output_type": "stream",
     "text": [
      "C:\\Users\\FrankEnedu\\anaconda3\\lib\\site-packages\\sklearn\\linear_model\\_logistic.py:763: ConvergenceWarning: lbfgs failed to converge (status=1):\n",
      "STOP: TOTAL NO. of ITERATIONS REACHED LIMIT.\n",
      "\n",
      "Increase the number of iterations (max_iter) or scale the data as shown in:\n",
      "    https://scikit-learn.org/stable/modules/preprocessing.html\n",
      "Please also refer to the documentation for alternative solver options:\n",
      "    https://scikit-learn.org/stable/modules/linear_model.html#logistic-regression\n",
      "  n_iter_i = _check_optimize_result(\n"
     ]
    },
    {
     "data": {
      "text/plain": [
       "LogisticRegression()"
      ]
     },
     "execution_count": 64,
     "metadata": {},
     "output_type": "execute_result"
    }
   ],
   "source": [
    "model3.fit(X_train, y_train)"
   ]
  },
  {
   "cell_type": "code",
   "execution_count": 65,
   "id": "a72a1963",
   "metadata": {},
   "outputs": [
    {
     "data": {
      "text/plain": [
       "0.9796686746987951"
      ]
     },
     "execution_count": 65,
     "metadata": {},
     "output_type": "execute_result"
    }
   ],
   "source": [
    "model3.score(X_test, y_test)"
   ]
  },
  {
   "cell_type": "markdown",
   "id": "c31c9370",
   "metadata": {},
   "source": [
    "Our model has an acuracy of approximately 94%, This simply means that if we make prediction 100 time, our model is likely to make the right prediction 94 time. "
   ]
  },
  {
   "cell_type": "code",
   "execution_count": 66,
   "id": "4126410d",
   "metadata": {},
   "outputs": [],
   "source": [
    "log_pred = model3.predict(X_test)"
   ]
  },
  {
   "cell_type": "code",
   "execution_count": 67,
   "id": "6ac4716d",
   "metadata": {},
   "outputs": [],
   "source": [
    "log_results = pd.DataFrame({'Actual value': y_test, \"Predicted value\": log_pred})"
   ]
  },
  {
   "cell_type": "code",
   "execution_count": 68,
   "id": "89a6cf21",
   "metadata": {},
   "outputs": [
    {
     "data": {
      "text/html": [
       "<div>\n",
       "<style scoped>\n",
       "    .dataframe tbody tr th:only-of-type {\n",
       "        vertical-align: middle;\n",
       "    }\n",
       "\n",
       "    .dataframe tbody tr th {\n",
       "        vertical-align: top;\n",
       "    }\n",
       "\n",
       "    .dataframe thead th {\n",
       "        text-align: right;\n",
       "    }\n",
       "</style>\n",
       "<table border=\"1\" class=\"dataframe\">\n",
       "  <thead>\n",
       "    <tr style=\"text-align: right;\">\n",
       "      <th></th>\n",
       "      <th>Actual value</th>\n",
       "      <th>Predicted value</th>\n",
       "    </tr>\n",
       "  </thead>\n",
       "  <tbody>\n",
       "    <tr>\n",
       "      <th>3192</th>\n",
       "      <td>0</td>\n",
       "      <td>0</td>\n",
       "    </tr>\n",
       "    <tr>\n",
       "      <th>1629</th>\n",
       "      <td>0</td>\n",
       "      <td>0</td>\n",
       "    </tr>\n",
       "    <tr>\n",
       "      <th>5312</th>\n",
       "      <td>0</td>\n",
       "      <td>0</td>\n",
       "    </tr>\n",
       "    <tr>\n",
       "      <th>768</th>\n",
       "      <td>0</td>\n",
       "      <td>0</td>\n",
       "    </tr>\n",
       "    <tr>\n",
       "      <th>7114</th>\n",
       "      <td>0</td>\n",
       "      <td>0</td>\n",
       "    </tr>\n",
       "  </tbody>\n",
       "</table>\n",
       "</div>"
      ],
      "text/plain": [
       "      Actual value  Predicted value\n",
       "3192             0                0\n",
       "1629             0                0\n",
       "5312             0                0\n",
       "768              0                0\n",
       "7114             0                0"
      ]
     },
     "execution_count": 68,
     "metadata": {},
     "output_type": "execute_result"
    }
   ],
   "source": [
    "log_results.head()"
   ]
  },
  {
   "cell_type": "markdown",
   "id": "2eb3f38c",
   "metadata": {},
   "source": [
    "The table above shows how good our model was able to predit the actual value, let's now evaluate our model"
   ]
  },
  {
   "cell_type": "code",
   "execution_count": 69,
   "id": "8c5b8d75",
   "metadata": {},
   "outputs": [
    {
     "data": {
      "text/plain": [
       "array([[1240,    2],\n",
       "       [  25,   61]], dtype=int64)"
      ]
     },
     "execution_count": 69,
     "metadata": {},
     "output_type": "execute_result"
    }
   ],
   "source": [
    "cm_log = confusion_matrix(y_test, log_pred)\n",
    "cm_log"
   ]
  },
  {
   "cell_type": "code",
   "execution_count": 70,
   "id": "3ab39b87",
   "metadata": {},
   "outputs": [
    {
     "data": {
      "text/plain": [
       "Text(69.0, 0.5, 'Truth')"
      ]
     },
     "execution_count": 70,
     "metadata": {},
     "output_type": "execute_result"
    },
    {
     "data": {
      "image/png": "[encoded data removed]",
      "text/plain": [
       "<Figure size 720x504 with 2 Axes>"
      ]
     },
     "metadata": {
      "needs_background": "light"
     },
     "output_type": "display_data"
    }
   ],
   "source": [
    "import seaborn as sn\n",
    "plt.figure(figsize = (10,7))\n",
    "sn.heatmap(cm_log, annot=True)\n",
    "plt.xlabel('Predicted')\n",
    "plt.ylabel('Truth')"
   ]
  },
  {
   "cell_type": "code",
   "execution_count": 71,
   "id": "7f249aee",
   "metadata": {},
   "outputs": [
    {
     "name": "stdout",
     "output_type": "stream",
     "text": [
      "              precision    recall  f1-score   support\n",
      "\n",
      "           0       0.98      1.00      0.99      1242\n",
      "           1       0.97      0.71      0.82        86\n",
      "\n",
      "    accuracy                           0.98      1328\n",
      "   macro avg       0.97      0.85      0.90      1328\n",
      "weighted avg       0.98      0.98      0.98      1328\n",
      "\n"
     ]
    }
   ],
   "source": [
    "print(classification_report(y_test,log_pred))"
   ]
  },
  {
   "cell_type": "code",
   "execution_count": null,
   "id": "f27901a0",
   "metadata": {},
   "outputs": [],
   "source": []
  },
  {
   "cell_type": "markdown",
   "id": "265f0084",
   "metadata": {},
   "source": [
    "# Building Model for Deployment"
   ]
  },
  {
   "cell_type": "markdown",
   "id": "dc9ef115",
   "metadata": {},
   "source": [
    "The inome, credit score, remited amount in the previous 12 monthhs, and tenure year are the most negatively correlated features to our dependent variabe (churned). thus when this features increase, the dependent variable reduces, nd vice versa. So I have selected this feature to create a deployable model "
   ]
  },
  {
   "cell_type": "markdown",
   "id": "fcb3e816",
   "metadata": {},
   "source": [
    "Declearing Dependent and Independent Variable"
   ]
  },
  {
   "cell_type": "code",
   "execution_count": 72,
   "id": "bc9313d4",
   "metadata": {},
   "outputs": [],
   "source": [
    "new_X = hot_encoded.drop([\"churned\", \"cust_id\", \"debt_with_other_lenders\", \"has_previous_defaults_other_lenders\", \"num_remittances_prev_12_mth\", \"main_remittance_corridor_AE_IN\",\t\"main_remittance_corridor_AE_PH\",\t\"main_remittance_corridor_AE_PK\", \"opened_campaign_1\", \"opened_campaign_2\", \"opened_campaign_3\", \"opened_campaign_4\"], axis = 1)"
   ]
  },
  {
   "cell_type": "code",
   "execution_count": 73,
   "id": "fc527174",
   "metadata": {},
   "outputs": [
    {
     "data": {
      "text/html": [
       "<div>\n",
       "<style scoped>\n",
       "    .dataframe tbody tr th:only-of-type {\n",
       "        vertical-align: middle;\n",
       "    }\n",
       "\n",
       "    .dataframe tbody tr th {\n",
       "        vertical-align: top;\n",
       "    }\n",
       "\n",
       "    .dataframe thead th {\n",
       "        text-align: right;\n",
       "    }\n",
       "</style>\n",
       "<table border=\"1\" class=\"dataframe\">\n",
       "  <thead>\n",
       "    <tr style=\"text-align: right;\">\n",
       "      <th></th>\n",
       "      <th>income</th>\n",
       "      <th>credit_score</th>\n",
       "      <th>remittance_amt_prev_12_mth</th>\n",
       "      <th>tenure_years</th>\n",
       "    </tr>\n",
       "  </thead>\n",
       "  <tbody>\n",
       "    <tr>\n",
       "      <th>0</th>\n",
       "      <td>63863.135880</td>\n",
       "      <td>20.0</td>\n",
       "      <td>23377.338230</td>\n",
       "      <td>2.065258</td>\n",
       "    </tr>\n",
       "    <tr>\n",
       "      <th>1</th>\n",
       "      <td>51537.479640</td>\n",
       "      <td>17.0</td>\n",
       "      <td>8353.525522</td>\n",
       "      <td>2.761676</td>\n",
       "    </tr>\n",
       "    <tr>\n",
       "      <th>2</th>\n",
       "      <td>3298.248451</td>\n",
       "      <td>2.0</td>\n",
       "      <td>1213.782465</td>\n",
       "      <td>0.297064</td>\n",
       "    </tr>\n",
       "    <tr>\n",
       "      <th>3</th>\n",
       "      <td>14402.605700</td>\n",
       "      <td>5.0</td>\n",
       "      <td>6202.880445</td>\n",
       "      <td>2.623058</td>\n",
       "    </tr>\n",
       "    <tr>\n",
       "      <th>4</th>\n",
       "      <td>8635.683507</td>\n",
       "      <td>3.0</td>\n",
       "      <td>6175.393029</td>\n",
       "      <td>0.160443</td>\n",
       "    </tr>\n",
       "  </tbody>\n",
       "</table>\n",
       "</div>"
      ],
      "text/plain": [
       "         income  credit_score  remittance_amt_prev_12_mth  tenure_years\n",
       "0  63863.135880          20.0                23377.338230      2.065258\n",
       "1  51537.479640          17.0                 8353.525522      2.761676\n",
       "2   3298.248451           2.0                 1213.782465      0.297064\n",
       "3  14402.605700           5.0                 6202.880445      2.623058\n",
       "4   8635.683507           3.0                 6175.393029      0.160443"
      ]
     },
     "execution_count": 73,
     "metadata": {},
     "output_type": "execute_result"
    }
   ],
   "source": [
    "new_X.head()"
   ]
  },
  {
   "cell_type": "code",
   "execution_count": 74,
   "id": "2f930af2",
   "metadata": {},
   "outputs": [],
   "source": [
    "y = hot_encoded[\"churned\"]"
   ]
  },
  {
   "cell_type": "code",
   "execution_count": 75,
   "id": "f085c97f",
   "metadata": {},
   "outputs": [],
   "source": [
    "# spliting dataset\n",
    "X_train, X_test, y_train, y_test = train_test_split(new_X,y, test_size=0.2)"
   ]
  },
  {
   "cell_type": "code",
   "execution_count": 76,
   "id": "3f7cb573",
   "metadata": {},
   "outputs": [
    {
     "data": {
      "text/plain": [
       "(1328, 4)"
      ]
     },
     "execution_count": 76,
     "metadata": {},
     "output_type": "execute_result"
    }
   ],
   "source": [
    "X_test.shape"
   ]
  },
  {
   "cell_type": "code",
   "execution_count": 77,
   "id": "89aae06c",
   "metadata": {},
   "outputs": [
    {
     "data": {
      "text/plain": [
       "((5310,), (1328,))"
      ]
     },
     "execution_count": 77,
     "metadata": {},
     "output_type": "execute_result"
    }
   ],
   "source": [
    "y_train.shape, y_test.shape"
   ]
  },
  {
   "cell_type": "markdown",
   "id": "86fdd6a9",
   "metadata": {},
   "source": [
    "Modeling"
   ]
  },
  {
   "cell_type": "code",
   "execution_count": 78,
   "id": "d835ec09",
   "metadata": {},
   "outputs": [],
   "source": [
    "deploy_model = LogisticRegression()"
   ]
  },
  {
   "cell_type": "code",
   "execution_count": 79,
   "id": "fb5ebe68",
   "metadata": {},
   "outputs": [
    {
     "data": {
      "text/plain": [
       "LogisticRegression()"
      ]
     },
     "execution_count": 79,
     "metadata": {},
     "output_type": "execute_result"
    }
   ],
   "source": [
    "deploy_model.fit(X_train, y_train)"
   ]
  },
  {
   "cell_type": "code",
   "execution_count": 80,
   "id": "5312759a",
   "metadata": {},
   "outputs": [
    {
     "data": {
      "text/plain": [
       "0.954066265060241"
      ]
     },
     "execution_count": 80,
     "metadata": {},
     "output_type": "execute_result"
    }
   ],
   "source": [
    "deploy_model.score(X_test, y_test)"
   ]
  },
  {
   "cell_type": "code",
   "execution_count": 81,
   "id": "5d677eda",
   "metadata": {},
   "outputs": [],
   "source": [
    "deploy_pred = deploy_model.predict(X_test)"
   ]
  },
  {
   "cell_type": "code",
   "execution_count": 82,
   "id": "861a99e7",
   "metadata": {},
   "outputs": [],
   "source": [
    "deploy_results = pd.DataFrame({'Actual value': y_test, \"Predicted value\": deploy_pred})"
   ]
  },
  {
   "cell_type": "code",
   "execution_count": 83,
   "id": "90f39853",
   "metadata": {},
   "outputs": [
    {
     "data": {
      "text/html": [
       "<div>\n",
       "<style scoped>\n",
       "    .dataframe tbody tr th:only-of-type {\n",
       "        vertical-align: middle;\n",
       "    }\n",
       "\n",
       "    .dataframe tbody tr th {\n",
       "        vertical-align: top;\n",
       "    }\n",
       "\n",
       "    .dataframe thead th {\n",
       "        text-align: right;\n",
       "    }\n",
       "</style>\n",
       "<table border=\"1\" class=\"dataframe\">\n",
       "  <thead>\n",
       "    <tr style=\"text-align: right;\">\n",
       "      <th></th>\n",
       "      <th>Actual value</th>\n",
       "      <th>Predicted value</th>\n",
       "    </tr>\n",
       "  </thead>\n",
       "  <tbody>\n",
       "    <tr>\n",
       "      <th>7334</th>\n",
       "      <td>0</td>\n",
       "      <td>0</td>\n",
       "    </tr>\n",
       "    <tr>\n",
       "      <th>3146</th>\n",
       "      <td>0</td>\n",
       "      <td>0</td>\n",
       "    </tr>\n",
       "    <tr>\n",
       "      <th>2215</th>\n",
       "      <td>0</td>\n",
       "      <td>0</td>\n",
       "    </tr>\n",
       "    <tr>\n",
       "      <th>666</th>\n",
       "      <td>0</td>\n",
       "      <td>0</td>\n",
       "    </tr>\n",
       "    <tr>\n",
       "      <th>6745</th>\n",
       "      <td>0</td>\n",
       "      <td>0</td>\n",
       "    </tr>\n",
       "  </tbody>\n",
       "</table>\n",
       "</div>"
      ],
      "text/plain": [
       "      Actual value  Predicted value\n",
       "7334             0                0\n",
       "3146             0                0\n",
       "2215             0                0\n",
       "666              0                0\n",
       "6745             0                0"
      ]
     },
     "execution_count": 83,
     "metadata": {},
     "output_type": "execute_result"
    }
   ],
   "source": [
    "deploy_results.head()"
   ]
  },
  {
   "cell_type": "code",
   "execution_count": 84,
   "id": "b4c11d35",
   "metadata": {},
   "outputs": [
    {
     "data": {
      "text/plain": [
       "array([[1172,   61],\n",
       "       [  93,    2]], dtype=int64)"
      ]
     },
     "execution_count": 84,
     "metadata": {},
     "output_type": "execute_result"
    }
   ],
   "source": [
    "cm_deploy = confusion_matrix(y_test, log_pred)\n",
    "cm_deploy"
   ]
  },
  {
   "cell_type": "code",
   "execution_count": 85,
   "id": "60a888ce",
   "metadata": {},
   "outputs": [
    {
     "data": {
      "text/plain": [
       "Text(69.0, 0.5, 'Truth')"
      ]
     },
     "execution_count": 85,
     "metadata": {},
     "output_type": "execute_result"
    },
    {
     "data": {
      "image/png": "[encoded data removed]",
      "text/plain": [
       "<Figure size 720x504 with 2 Axes>"
      ]
     },
     "metadata": {
      "needs_background": "light"
     },
     "output_type": "display_data"
    }
   ],
   "source": [
    "import seaborn as sn\n",
    "plt.figure(figsize = (10,7))\n",
    "sn.heatmap(cm_deploy, annot=True)\n",
    "plt.xlabel('Predicted')\n",
    "plt.ylabel('Truth')"
   ]
  },
  {
   "cell_type": "code",
   "execution_count": 86,
   "id": "96f4d398",
   "metadata": {},
   "outputs": [
    {
     "name": "stdout",
     "output_type": "stream",
     "text": [
      "              precision    recall  f1-score   support\n",
      "\n",
      "           0       0.93      0.95      0.94      1233\n",
      "           1       0.03      0.02      0.03        95\n",
      "\n",
      "    accuracy                           0.88      1328\n",
      "   macro avg       0.48      0.49      0.48      1328\n",
      "weighted avg       0.86      0.88      0.87      1328\n",
      "\n"
     ]
    }
   ],
   "source": [
    "print(classification_report(y_test,log_pred))"
   ]
  },
  {
   "cell_type": "markdown",
   "id": "1ad705fb",
   "metadata": {},
   "source": [
    "We need to Pickle our model"
   ]
  },
  {
   "cell_type": "code",
   "execution_count": 87,
   "id": "2e573a4a",
   "metadata": {},
   "outputs": [],
   "source": [
    "pickle.dump(deploy_model,open('model.pkl','wb'))\n",
    "model=pickle.load(open('model.pkl','rb'))"
   ]
  },
  {
   "cell_type": "code",
   "execution_count": null,
   "id": "402d623f",
   "metadata": {},
   "outputs": [],
   "source": []
  },
  {
   "cell_type": "code",
   "execution_count": null,
   "id": "77e8ed1b",
   "metadata": {},
   "outputs": [],
   "source": []
  },
  {
   "cell_type": "code",
   "execution_count": null,
   "id": "facb95a4",
   "metadata": {},
   "outputs": [],
   "source": []
  }
 ],
 "metadata": {
  "kernelspec": {
   "display_name": "Python 3",
   "language": "python",
   "name": "python3"
  },
  "language_info": {
   "codemirror_mode": {
    "name": "ipython",
    "version": 3
   },
   "file_extension": ".py",
   "mimetype": "text/x-python",
   "name": "python",
   "nbconvert_exporter": "python",
   "pygments_lexer": "ipython3",
   "version": "3.8.8"
  }
 },
 "nbformat": 4,
 "nbformat_minor": 5
}
